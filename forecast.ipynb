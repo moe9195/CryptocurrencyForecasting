{
 "cells": [
  {
   "cell_type": "code",
   "execution_count": 12,
   "metadata": {},
   "outputs": [
    {
     "data": {
      "text/html": [
       "        <script type=\"text/javascript\">\n",
       "        window.PlotlyConfig = {MathJaxConfig: 'local'};\n",
       "        if (window.MathJax) {MathJax.Hub.Config({SVG: {font: \"STIX-Web\"}});}\n",
       "        if (typeof require !== 'undefined') {\n",
       "        require.undef(\"plotly\");\n",
       "        requirejs.config({\n",
       "            paths: {\n",
       "                'plotly': ['https://cdn.plot.ly/plotly-latest.min']\n",
       "            }\n",
       "        });\n",
       "        require(['plotly'], function(Plotly) {\n",
       "            window._Plotly = Plotly;\n",
       "        });\n",
       "        }\n",
       "        </script>\n",
       "        "
      ]
     },
     "metadata": {},
     "output_type": "display_data"
    }
   ],
   "source": [
    "import sys\n",
    "import os\n",
    "import pandas as pd\n",
    "import requests\n",
    "import json\n",
    "import pickle\n",
    "import warnings\n",
    "import numpy as np\n",
    "import tensorflow as tf\n",
    "import seaborn as sns\n",
    "import pandas as pd\n",
    "from tqdm import tqdm\n",
    "import dateutil.parser\n",
    "import matplotlib.pyplot as plt\n",
    "import plotly.graph_objects as go\n",
    "from datetime import datetime, timedelta\n",
    "from sklearn.preprocessing import MinMaxScaler\n",
    "from plotly.offline import init_notebook_mode, iplot\n",
    "from pandas.plotting import register_matplotlib_converters\n",
    "register_matplotlib_converters()\n",
    "\n",
    "if not sys.warnoptions:\n",
    "    warnings.simplefilter('ignore')\n",
    "sns.set()\n",
    "tf.compat.v1.random.set_random_seed(1234)\n",
    "init_notebook_mode(connected=True)"
   ]
  },
  {
   "cell_type": "markdown",
   "metadata": {},
   "source": [
    "## Cryptocurrency Price Prediction \n",
    "\n",
    "I use Long short-term memory (LSTM) neural network forecast cryptocurrency prices. The price history is obtained from the CoinGecko API. The results are saved and analyzed. The same model could be used for forecasting any timeseries data (e.g. stock prices, weather data, etc...)"
   ]
  },
  {
   "cell_type": "code",
   "execution_count": 3,
   "metadata": {},
   "outputs": [],
   "source": [
    "# Get list of coins from api.coingecko.com\n",
    "url = \"https://api.coingecko.com/api/v3/coins/markets?vs_currency=usd\"\n",
    "coins = requests.get(url).json()\n",
    "id_array = [x['id'] for x in coins][0:25]\n",
    "atl_array = []\n",
    "for x in coins:\n",
    "    d = dateutil.parser.parse(x['atl_date'])\n",
    "    s = (d.strftime('%d/%m/%Y'))  \n",
    "    datetime_object = datetime.strptime(s, '%d/%m/%Y')\n",
    "    atl_array.append(datetime_object)"
   ]
  },
  {
   "cell_type": "code",
   "execution_count": 9,
   "metadata": {},
   "outputs": [],
   "source": [
    "# Set model parameters\n",
    "simulation_size = 3\n",
    "num_layers = 1      \n",
    "size_layer = 128    \n",
    "timestamp = 5       \n",
    "epoch = 300\n",
    "dropout_rate = 0.8\n",
    "test_size = 30 # Determines up how many days ahead to forecast\n",
    "learning_rate = 0.01\n",
    "\n",
    "class Model:\n",
    "    def __init__(\n",
    "        self,\n",
    "        learning_rate,\n",
    "        num_layers,\n",
    "        size,\n",
    "        size_layer,\n",
    "        output_size,\n",
    "        forget_bias = 0.1,\n",
    "    ):\n",
    "        def lstm_cell(size_layer):\n",
    "            return tf.nn.rnn_cell.LSTMCell(size_layer, state_is_tuple = False)\n",
    "        rnn_cells = tf.contrib.rnn.MultiRNNCell(\n",
    "            [lstm_cell(size_layer) for _ in range(num_layers)],\n",
    "            state_is_tuple = False,\n",
    "        )\n",
    "        self.X = tf.placeholder(tf.float32, (None, None, size))\n",
    "        self.Y = tf.placeholder(tf.float32, (None, output_size))\n",
    "        drop = tf.contrib.rnn.DropoutWrapper(\n",
    "            rnn_cells, output_keep_prob = forget_bias\n",
    "        )\n",
    "        self.hidden_layer = tf.placeholder(\n",
    "            tf.float32, (None, num_layers * 2 * size_layer)\n",
    "        )\n",
    "        self.outputs, self.last_state = tf.nn.dynamic_rnn(\n",
    "            drop, self.X, initial_state = self.hidden_layer, dtype = tf.float32\n",
    "        )\n",
    "        self.logits = tf.layers.dense(self.outputs[-1], output_size)\n",
    "        self.cost = tf.reduce_mean(tf.square(self.Y - self.logits))\n",
    "        self.optimizer = tf.train.AdamOptimizer(learning_rate).minimize(\n",
    "            self.cost\n",
    "        )\n",
    "        \n",
    "def calculate_accuracy(real, predict):\n",
    "    real = np.array(real) + 1\n",
    "    predict = np.array(predict) + 1\n",
    "    percentage = 1 - np.sqrt(np.mean(np.square((real - predict) / real)))\n",
    "    return percentage * 100\n",
    "\n",
    "def anchor(signal, weight):\n",
    "    buffer = []\n",
    "    last = signal[0]\n",
    "    for i in signal:\n",
    "        smoothed_val = last * weight + (1 - weight) * i\n",
    "        buffer.append(smoothed_val)\n",
    "        last = smoothed_val\n",
    "    return buffer\n",
    "\n",
    "def forecast():\n",
    "    tf.compat.v1.reset_default_graph()\n",
    "    modelnn = Model(\n",
    "        learning_rate, num_layers, df_log.shape[1], size_layer, df_log.shape[1], dropout_rate\n",
    "    )\n",
    "    sess = tf.compat.v1.InteractiveSession()\n",
    "    sess.run(tf.compat.v1.global_variables_initializer())\n",
    "    date_ori = pd.to_datetime(df.iloc[:, 0]).tolist()\n",
    "\n",
    "    pbar = tqdm(range(epoch), desc = 'train loop')\n",
    "    for i in pbar:\n",
    "        init_value = np.zeros((1, num_layers * 2 * size_layer))\n",
    "        total_loss, total_acc = [], []\n",
    "        for k in range(0, df_train.shape[0] - 1, timestamp):\n",
    "            index = min(k + timestamp, df_train.shape[0] - 1)\n",
    "            batch_x = np.expand_dims(\n",
    "                df_train.iloc[k : index, :].values, axis = 0\n",
    "            )\n",
    "            batch_y = df_train.iloc[k + 1 : index + 1, :].values\n",
    "            logits, last_state, _, loss = sess.run(\n",
    "                [modelnn.logits, modelnn.last_state, modelnn.optimizer, modelnn.cost],\n",
    "                feed_dict = {\n",
    "                    modelnn.X: batch_x,\n",
    "                    modelnn.Y: batch_y,\n",
    "                    modelnn.hidden_layer: init_value,\n",
    "                },\n",
    "            )        \n",
    "            init_value = last_state\n",
    "            total_loss.append(loss)\n",
    "            total_acc.append(calculate_accuracy(batch_y[:, 0], logits[:, 0]))\n",
    "        pbar.set_postfix(cost = np.mean(total_loss), acc = np.mean(total_acc))\n",
    "    \n",
    "    future_day = test_size\n",
    "\n",
    "    output_predict = np.zeros((df_train.shape[0] + future_day, df_train.shape[1]))\n",
    "    output_predict[0] = df_train.iloc[0]\n",
    "    upper_b = (df_train.shape[0] // timestamp) * timestamp\n",
    "    init_value = np.zeros((1, num_layers * 2 * size_layer))\n",
    "\n",
    "    for k in range(0, (df_train.shape[0] // timestamp) * timestamp, timestamp):\n",
    "        out_logits, last_state = sess.run(\n",
    "            [modelnn.logits, modelnn.last_state],\n",
    "            feed_dict = {\n",
    "                modelnn.X: np.expand_dims(\n",
    "                    df_train.iloc[k : k + timestamp], axis = 0\n",
    "                ),\n",
    "                modelnn.hidden_layer: init_value,\n",
    "            },\n",
    "        )\n",
    "        init_value = last_state\n",
    "        output_predict[k + 1 : k + timestamp + 1] = out_logits\n",
    "\n",
    "    if upper_b != df_train.shape[0]:\n",
    "        out_logits, last_state = sess.run(\n",
    "            [modelnn.logits, modelnn.last_state],\n",
    "            feed_dict = {\n",
    "                modelnn.X: np.expand_dims(df_train.iloc[upper_b:], axis = 0),\n",
    "                modelnn.hidden_layer: init_value,\n",
    "            },\n",
    "        )\n",
    "        output_predict[upper_b + 1 : df_train.shape[0] + 1] = out_logits\n",
    "        future_day -= 1\n",
    "        date_ori.append(date_ori[-1] + timedelta(days = 1))\n",
    "\n",
    "    init_value = last_state\n",
    "    \n",
    "    for i in range(future_day):\n",
    "        o = output_predict[-future_day - timestamp + i:-future_day + i]\n",
    "        out_logits, last_state = sess.run(\n",
    "            [modelnn.logits, modelnn.last_state],\n",
    "            feed_dict = {\n",
    "                modelnn.X: np.expand_dims(o, axis = 0),\n",
    "                modelnn.hidden_layer: init_value,\n",
    "            },\n",
    "        )\n",
    "        init_value = last_state\n",
    "        output_predict[-future_day + i] = out_logits[-1]\n",
    "        date_ori.append(date_ori[-1] + timedelta(days = 1))\n",
    "    \n",
    "    output_predict = minmax.inverse_transform(output_predict)\n",
    "    deep_future = anchor(output_predict[:, 0], 0.4)\n",
    "    \n",
    "    return deep_future\n",
    "\n",
    "# Returns sell date to maximize profits\n",
    "def get_sell_date(forecast):\n",
    "    mx = forecast.max()\n",
    "    itemindex = (np.where(forecast==mx))[0][0]\n",
    "    return itemindex\n",
    "\n",
    "# Returns percent max profit\n",
    "def get_max_profit(current_price, forecast):\n",
    "    mx = forecast.max()\n",
    "    dif = mx - current_price\n",
    "    mx_profit = round(100*(dif/current_price),2)\n",
    "    \n",
    "    return mx_profit,\n",
    "\n",
    "# Returns percent profit per day\n",
    "def get_max_per_day(mx_profit, forecast):\n",
    "    return round((mx_profit/get_sell_date(forecast)),2)\n",
    "    \n",
    "# Open data computed in 'data_collection.ipynb' and returns array of data objects for each coin\n",
    "def open_data(pathname, sort_key = 'daily_profit'):\n",
    "    arr = []\n",
    "    for file in os.listdir(pathname):\n",
    "        obj = pickle.load(open(pathname + '/' + file, \"rb\" ))\n",
    "        arr.append(obj)\n",
    "    return sorted(arr, key=lambda k: k[sort_key]) \n",
    "\n",
    "# Return a list of all coin names (top 25 coins)\n",
    "def coin_list():\n",
    "    url = \"https://api.coingecko.com/api/v3/coins/markets?vs_currency=usd\"\n",
    "    coins = requests.get(url).json()\n",
    "    return [x['id'] for x in coins][0:25]\n",
    "\n",
    "# Get up to date timeseries data for a specified coin\n",
    "def get_present_data(coin, max_date = 365*3):\n",
    "    url = f'https://api.coingecko.com/api/v3/coins/{coin}/market_chart?vs_currency=usd&days={max_date}'\n",
    "    request = requests.get(url)\n",
    "    prices = request.json()['prices']\n",
    "    daily = {price[0]: price[1:][0] for price in prices}\n",
    "    return daily\n",
    "\n",
    "# Get computed coin data for a specific coin\n",
    "def get_coin_data(arr, coin = 'bitcoin'):\n",
    "    return [x for x in arr if x[\"name\"] == coin][0]\n",
    "    \n",
    "# Plots top 25 coins on XY plot where X is the estimated profit and Y the accuracy    \n",
    "def plot_best_data(arr, attribute = 'max_profit'):\n",
    "    fig = go.Figure()\n",
    "    for item in arr:\n",
    "        fig.add_trace(go.Scatter(x=[item[attribute]], y=[item['accuracy']],\n",
    "                            mode='markers',\n",
    "                            opacity=0.85,\n",
    "                            name=item['name'],\n",
    "                            marker=dict(size=[20])))\n",
    "    fig.update_layout(\n",
    "            autosize=False,\n",
    "            width=800,\n",
    "            height=650,\n",
    "            title='Top 25 Coins Profit Margin',\n",
    "            xaxis_title=\"Profit (%)\",\n",
    "            yaxis_title=\"Accuracy (%)\",\n",
    "            font=dict(\n",
    "                family=\"Courier New, monospace\",\n",
    "                size=18,\n",
    "                color=\"#7f7f7f\"))\n",
    "    \n",
    "    return fig\n",
    "    \n",
    "# Plots up-to-date coin price timeseries, as well as predicted price\n",
    "# present = up to date price\n",
    "# true = real price at date of simulation\n",
    "# simulation = computed price from neural network\n",
    "# prediction = predicted price in next N days, where N is the test_size\n",
    "def pretty_plot(data, coin, days_before = 120):\n",
    "    DATA = get_coin_data(data, coin)\n",
    "    day_diff = (datetime.today().date() - DATA['X_true'][-1].date()).days\n",
    "    prediction_days = DATA['meta_data']['test_size']\n",
    "    simulation_date = datetime.strptime(DATA['meta_data']['created_at'][0:10], '%Y-%m-%d')\n",
    "\n",
    "    Y_real = DATA['Y_true'][-days_before::]\n",
    "    Y_pred = DATA['Y_pred'][-prediction_days - days_before::]\n",
    "    Y_new = list(get_present_data(coin, max_date = 365*3 + day_diff -1).values())[-day_diff-days_before::]\n",
    "    \n",
    "    T_real = np.arange(len(Y_real))\n",
    "    T_pred = np.arange(len(Y_pred))\n",
    "    T_new = np.arange(len(Y_new))\n",
    "\n",
    "\n",
    "    fig = go.Figure()\n",
    "    \n",
    "    fig.add_trace(go.Scatter(x=T_new, y=Y_new,\n",
    "                        mode='lines',\n",
    "                        line=dict(color=\"red\"), \n",
    "                        name=('present    (' + \n",
    "         (datetime.today() - timedelta(days=min(days_before, 365*3))).strftime(\"%Y/%m/%d\")\n",
    "          + '-' +\n",
    "         datetime.today().strftime(\"%Y/%m/%d)\")))\n",
    "        )\n",
    "\n",
    "    fig.add_trace(go.Scatter(x=T_real, y=Y_real,\n",
    "                        mode='lines',\n",
    "                        line=dict(color=\"blue\"), \n",
    "                        name=('true       (' + \n",
    "         (datetime.today() - timedelta(days=min(days_before, 365*3))).strftime(\"%Y/%m/%d\")\n",
    "          + '-' +\n",
    "         DATA['meta_data']['created_at'][0:10].replace('-', '/')) + ')') \n",
    "        )\n",
    "\n",
    "    fig.add_trace(go.Scatter(x=T_pred, y=Y_pred,\n",
    "                        visible='legendonly',\n",
    "                        mode='lines',\n",
    "                        line=dict(color=\"green\"), \n",
    "                        name=('simulation (' + \n",
    "         (datetime.today() - timedelta(days=min(days_before, 365*3))).strftime(\"%Y/%m/%d\")\n",
    "          + '-' +\n",
    "         (simulation_date + timedelta(days=prediction_days)).strftime(\"%Y/%m/%d)\")))\n",
    "        )\n",
    "    \n",
    "    fig.add_trace(go.Scatter(x=T_pred[-prediction_days::], y=Y_pred[-prediction_days::],\n",
    "                    mode='lines',\n",
    "                    line=dict(color=\"black\"), \n",
    "                    name=('prediction (' + \n",
    "         simulation_date.strftime(\"%Y/%m/%d\")\n",
    "          + '-' +\n",
    "         (simulation_date + timedelta(days=prediction_days)).strftime(\"%Y/%m/%d)\")))\n",
    "        )\n",
    "\n",
    "\n",
    "    fig.update_layout(\n",
    "        autosize=False,\n",
    "        width=800,\n",
    "        height=550,\n",
    "        title=DATA['name'],\n",
    "        xaxis_title=\"Time Step (Days)\",\n",
    "        yaxis_title=\"Value (US Dollars)\",\n",
    "        font=dict(\n",
    "            family=\"Courier New, monospace\",\n",
    "            size=18,\n",
    "            color=\"#7f7f7f\"\n",
    "        ),\n",
    "        legend=dict(\n",
    "            yanchor=\"top\",\n",
    "            y=-0.25,\n",
    "            xanchor=\"left\",\n",
    "            x=0.01\n",
    "        ))\n",
    "\n",
    "    fig.show()"
   ]
  },
  {
   "cell_type": "markdown",
   "metadata": {},
   "source": [
    "### Model Training"
   ]
  },
  {
   "cell_type": "code",
   "execution_count": null,
   "metadata": {
    "scrolled": true
   },
   "outputs": [],
   "source": [
    "data_directory = os.listdir('./data')\n",
    "today_date = datetime.today().strftime('%m-%d-%y')\n",
    "\n",
    "for directory in data_directory:\n",
    "    if not os.listdir('./data/' + directory):\n",
    "        os.rmdir('./data/' + directory)\n",
    "\n",
    "data_directory = os.listdir('./data')\n",
    "path = './data/' + today_date\n",
    "computed = []\n",
    "if today_date in data_directory:\n",
    "    for file in os.listdir(path):\n",
    "        obj = pickle.load(open(path + file, \"rb\" ))\n",
    "        computed.append(obj)\n",
    "else:\n",
    "    try:\n",
    "        os.mkdir(path)\n",
    "    except OSError:\n",
    "        print (\"Creation of the directory %s failed\" % path)\n",
    "    else:\n",
    "        print (\"Successfully created the directory %s \" % path)\n",
    "    \n",
    "skip = [x['name'] for x in computed]\n",
    "\n",
    "for idx, item_id in enumerate(id_array):\n",
    "    if item_id in skip:\n",
    "        continue\n",
    "    max_date = ((datetime.today() - max(datetime.today() - timedelta(days= 365 * 3), atl_array[idx])).days)\n",
    "    url = f'https://api.coingecko.com/api/v3/coins/{id_array[idx]}/market_chart?vs_currency=usd&days={max_date}'\n",
    "    request = requests.get(url)\n",
    "    prices = request.json()['prices']\n",
    "    daily = {price[0]: price[1:][0] for price in prices}    \n",
    "\n",
    "    T = []\n",
    "    X = []\n",
    "    Y = []\n",
    "    for time, key in enumerate(daily):\n",
    "        T.append(float(idx))\n",
    "        X.append(datetime.fromtimestamp(int(key)/1000.0))\n",
    "        Y.append(float(daily[key]))\n",
    "\n",
    "\n",
    "    df = pd.DataFrame(dict(price=Y), index=T, columns=['price'])\n",
    "    Y_true = df[\"price\"].values\n",
    "    current_price = Y_true[-1]                \n",
    "    print(\"Item: \" + item_id + '(' + str(idx) + ')')\n",
    "    print(\"Price: \" + str(current_price))                  \n",
    "    X_true = np.arange(len(Y_true))\n",
    "\n",
    "    minmax = MinMaxScaler().fit(df.iloc[:, 0:1].astype('float32')) # Close index\n",
    "    df_log = minmax.transform(df.iloc[:, 0:1].astype('float32')) # Close index\n",
    "    df_log = pd.DataFrame(df_log)\n",
    "\n",
    "\n",
    "    df_train = df_log\n",
    "    df.shape, df_train.shape\n",
    "\n",
    "    results = []\n",
    "    for i in range(simulation_size):\n",
    "        print('simulation %d'%(i + 1))\n",
    "        results.append(forecast())\n",
    "\n",
    "    # Filter out outliers if model has unstable gradient\n",
    "    accepted_results = []\n",
    "    for r in results:\n",
    "        if (np.array(r[-test_size:]) < np.min(df['price'])).sum() == 0 and \\\n",
    "        (np.array(r[-test_size:]) > np.max(df['price']) * 2).sum() == 0:\n",
    "            accepted_results.append(r)\n",
    "\n",
    "    if accepted_results:\n",
    "        mean = np.zeros(len(accepted_results[0]))\n",
    "        for r in (accepted_results):\n",
    "            for i, x in enumerate(r):\n",
    "                mean[i] += x/len(accepted_results)\n",
    "\n",
    "\n",
    "\n",
    "        accuracies = [calculate_accuracy(df['price'].values, r[:-test_size]) for r in accepted_results]                       \n",
    "\n",
    "        Y_pred = mean\n",
    "        X_pred = np.arange(len(Y_pred))\n",
    "\n",
    "        future = Y_pred[len(Y_true):-1]\n",
    "\n",
    "        mx_profit = get_max_profit(current_price, future)[0]\n",
    "        daily_profit = get_max_per_day(mx_profit, future)\n",
    "        \n",
    "        # Create object with prediction data and save it\n",
    "        obj = ({\"name\": item_id,\n",
    "                \"max_profit\": mx_profit,\n",
    "                \"daily_profit\": daily_profit, \n",
    "                \"sell_date\": get_sell_date(future),\n",
    "                \"accuracy\": round(sum(accuracies) / len(accuracies), 2), \n",
    "                \"X_true\": X,\n",
    "                \"Y_true\": Y_true,\n",
    "                \"Y_pred\": Y_pred,\n",
    "                \"Y_future\": future,\n",
    "                \"meta_data\": {'simulation_size': simulation_size,\n",
    "                              'num_layers': num_layers,\n",
    "                              'size_layer': size_layer,\n",
    "                              'timestamp': timestamp,\n",
    "                              'num_epoch': epoch,\n",
    "                              'dropout_rate': dropout_rate,\n",
    "                              'test_size': test_size,\n",
    "                              'learning_rate': learning_rate,\n",
    "                              'created_at': datetime.today().strftime('%Y-%m-%d-%H:%M:%S')\n",
    "                             }\n",
    "                })\n",
    "        print(\"Simulation Result: \")\n",
    "        print(obj['accuracy'])\n",
    "        print(obj['max_profit'])\n",
    "        with open(f'./best/{item_id}.pkl', 'wb') as f: \n",
    "            pickle.dump(obj, f)"
   ]
  },
  {
   "cell_type": "markdown",
   "metadata": {},
   "source": [
    "### Data Visualisation"
   ]
  },
  {
   "cell_type": "code",
   "execution_count": 13,
   "metadata": {},
   "outputs": [
    {
     "data": {
      "application/vnd.plotly.v1+json": {
       "config": {
        "plotlyServerURL": "https://plot.ly"
       },
       "data": [
        {
         "marker": {
          "size": [
           20
          ]
         },
         "mode": "markers",
         "name": "binancecoin",
         "opacity": 0.85,
         "type": "scatter",
         "x": [
          -4.74
         ],
         "y": [
          79.98
         ]
        },
        {
         "marker": {
          "size": [
           20
          ]
         },
         "mode": "markers",
         "name": "bitcoin",
         "opacity": 0.85,
         "type": "scatter",
         "x": [
          -1.13
         ],
         "y": [
          85.42
         ]
        },
        {
         "marker": {
          "size": [
           20
          ]
         },
         "mode": "markers",
         "name": "bitcoin-cash",
         "opacity": 0.85,
         "type": "scatter",
         "x": [
          0.79
         ],
         "y": [
          87.64
         ]
        },
        {
         "marker": {
          "size": [
           20
          ]
         },
         "mode": "markers",
         "name": "bitcoin-cash-sv",
         "opacity": 0.85,
         "type": "scatter",
         "x": [
          5.82
         ],
         "y": [
          75.87
         ]
        },
        {
         "marker": {
          "size": [
           20
          ]
         },
         "mode": "markers",
         "name": "cardano",
         "opacity": 0.85,
         "type": "scatter",
         "x": [
          14.4
         ],
         "y": [
          99.56
         ]
        },
        {
         "marker": {
          "size": [
           20
          ]
         },
         "mode": "markers",
         "name": "cdai",
         "opacity": 0.85,
         "type": "scatter",
         "x": [
          0.43
         ],
         "y": [
          99.99
         ]
        },
        {
         "marker": {
          "size": [
           20
          ]
         },
         "mode": "markers",
         "name": "chainlink",
         "opacity": 0.85,
         "type": "scatter",
         "x": [
          4.82
         ],
         "y": [
          63.67
         ]
        },
        {
         "marker": {
          "size": [
           20
          ]
         },
         "mode": "markers",
         "name": "cosmos",
         "opacity": 0.85,
         "type": "scatter",
         "x": [
          2.56
         ],
         "y": [
          94.32
         ]
        },
        {
         "marker": {
          "size": [
           20
          ]
         },
         "mode": "markers",
         "name": "crypto-com-chain",
         "opacity": 0.85,
         "type": "scatter",
         "x": [
          7.53
         ],
         "y": [
          99.3
         ]
        },
        {
         "marker": {
          "size": [
           20
          ]
         },
         "mode": "markers",
         "name": "eos",
         "opacity": 0.85,
         "type": "scatter",
         "x": [
          -2.65
         ],
         "y": [
          90.42
         ]
        },
        {
         "marker": {
          "size": [
           20
          ]
         },
         "mode": "markers",
         "name": "ethereum",
         "opacity": 0.85,
         "type": "scatter",
         "x": [
          -6.35
         ],
         "y": [
          76.85
         ]
        },
        {
         "marker": {
          "size": [
           20
          ]
         },
         "mode": "markers",
         "name": "huobi-token",
         "opacity": 0.85,
         "type": "scatter",
         "x": [
          1.25
         ],
         "y": [
          95.21
         ]
        },
        {
         "marker": {
          "size": [
           20
          ]
         },
         "mode": "markers",
         "name": "iota",
         "opacity": 0.85,
         "type": "scatter",
         "x": [
          10.05
         ],
         "y": [
          98.63
         ]
        },
        {
         "marker": {
          "size": [
           20
          ]
         },
         "mode": "markers",
         "name": "leo-token",
         "opacity": 0.85,
         "type": "scatter",
         "x": [
          22.18
         ],
         "y": [
          98.88
         ]
        },
        {
         "marker": {
          "size": [
           20
          ]
         },
         "mode": "markers",
         "name": "litecoin",
         "opacity": 0.85,
         "type": "scatter",
         "x": [
          1.58
         ],
         "y": [
          85.41
         ]
        },
        {
         "marker": {
          "size": [
           20
          ]
         },
         "mode": "markers",
         "name": "monero",
         "opacity": 0.85,
         "type": "scatter",
         "x": [
          0.62
         ],
         "y": [
          84.2
         ]
        },
        {
         "marker": {
          "size": [
           20
          ]
         },
         "mode": "markers",
         "name": "neo",
         "opacity": 0.85,
         "type": "scatter",
         "x": [
          0.32
         ],
         "y": [
          68.78
         ]
        },
        {
         "marker": {
          "size": [
           20
          ]
         },
         "mode": "markers",
         "name": "okb",
         "opacity": 0.85,
         "type": "scatter",
         "x": [
          12.6
         ],
         "y": [
          92.49
         ]
        },
        {
         "marker": {
          "size": [
           20
          ]
         },
         "mode": "markers",
         "name": "ripple",
         "opacity": 0.85,
         "type": "scatter",
         "x": [
          3.32
         ],
         "y": [
          95.14
         ]
        },
        {
         "marker": {
          "size": [
           20
          ]
         },
         "mode": "markers",
         "name": "stellar",
         "opacity": 0.85,
         "type": "scatter",
         "x": [
          29.74
         ],
         "y": [
          96.67
         ]
        },
        {
         "marker": {
          "size": [
           20
          ]
         },
         "mode": "markers",
         "name": "tether",
         "opacity": 0.85,
         "type": "scatter",
         "x": [
          -0.02
         ],
         "y": [
          99.44
         ]
        },
        {
         "marker": {
          "size": [
           20
          ]
         },
         "mode": "markers",
         "name": "tezos",
         "opacity": 0.85,
         "type": "scatter",
         "x": [
          8.09
         ],
         "y": [
          92.01
         ]
        },
        {
         "marker": {
          "size": [
           20
          ]
         },
         "mode": "markers",
         "name": "tron",
         "opacity": 0.85,
         "type": "scatter",
         "x": [
          -6.45
         ],
         "y": [
          98.98
         ]
        },
        {
         "marker": {
          "size": [
           20
          ]
         },
         "mode": "markers",
         "name": "usd-coin",
         "opacity": 0.85,
         "type": "scatter",
         "x": [
          0.01
         ],
         "y": [
          99.94
         ]
        },
        {
         "marker": {
          "size": [
           20
          ]
         },
         "mode": "markers",
         "name": "vechain",
         "opacity": 0.85,
         "type": "scatter",
         "x": [
          31.16
         ],
         "y": [
          99.87
         ]
        }
       ],
       "layout": {
        "autosize": false,
        "font": {
         "color": "#7f7f7f",
         "family": "Courier New, monospace",
         "size": 18
        },
        "height": 650,
        "template": {
         "data": {
          "bar": [
           {
            "error_x": {
             "color": "#2a3f5f"
            },
            "error_y": {
             "color": "#2a3f5f"
            },
            "marker": {
             "line": {
              "color": "#E5ECF6",
              "width": 0.5
             }
            },
            "type": "bar"
           }
          ],
          "barpolar": [
           {
            "marker": {
             "line": {
              "color": "#E5ECF6",
              "width": 0.5
             }
            },
            "type": "barpolar"
           }
          ],
          "carpet": [
           {
            "aaxis": {
             "endlinecolor": "#2a3f5f",
             "gridcolor": "white",
             "linecolor": "white",
             "minorgridcolor": "white",
             "startlinecolor": "#2a3f5f"
            },
            "baxis": {
             "endlinecolor": "#2a3f5f",
             "gridcolor": "white",
             "linecolor": "white",
             "minorgridcolor": "white",
             "startlinecolor": "#2a3f5f"
            },
            "type": "carpet"
           }
          ],
          "choropleth": [
           {
            "colorbar": {
             "outlinewidth": 0,
             "ticks": ""
            },
            "type": "choropleth"
           }
          ],
          "contour": [
           {
            "colorbar": {
             "outlinewidth": 0,
             "ticks": ""
            },
            "colorscale": [
             [
              0,
              "#0d0887"
             ],
             [
              0.1111111111111111,
              "#46039f"
             ],
             [
              0.2222222222222222,
              "#7201a8"
             ],
             [
              0.3333333333333333,
              "#9c179e"
             ],
             [
              0.4444444444444444,
              "#bd3786"
             ],
             [
              0.5555555555555556,
              "#d8576b"
             ],
             [
              0.6666666666666666,
              "#ed7953"
             ],
             [
              0.7777777777777778,
              "#fb9f3a"
             ],
             [
              0.8888888888888888,
              "#fdca26"
             ],
             [
              1,
              "#f0f921"
             ]
            ],
            "type": "contour"
           }
          ],
          "contourcarpet": [
           {
            "colorbar": {
             "outlinewidth": 0,
             "ticks": ""
            },
            "type": "contourcarpet"
           }
          ],
          "heatmap": [
           {
            "colorbar": {
             "outlinewidth": 0,
             "ticks": ""
            },
            "colorscale": [
             [
              0,
              "#0d0887"
             ],
             [
              0.1111111111111111,
              "#46039f"
             ],
             [
              0.2222222222222222,
              "#7201a8"
             ],
             [
              0.3333333333333333,
              "#9c179e"
             ],
             [
              0.4444444444444444,
              "#bd3786"
             ],
             [
              0.5555555555555556,
              "#d8576b"
             ],
             [
              0.6666666666666666,
              "#ed7953"
             ],
             [
              0.7777777777777778,
              "#fb9f3a"
             ],
             [
              0.8888888888888888,
              "#fdca26"
             ],
             [
              1,
              "#f0f921"
             ]
            ],
            "type": "heatmap"
           }
          ],
          "heatmapgl": [
           {
            "colorbar": {
             "outlinewidth": 0,
             "ticks": ""
            },
            "colorscale": [
             [
              0,
              "#0d0887"
             ],
             [
              0.1111111111111111,
              "#46039f"
             ],
             [
              0.2222222222222222,
              "#7201a8"
             ],
             [
              0.3333333333333333,
              "#9c179e"
             ],
             [
              0.4444444444444444,
              "#bd3786"
             ],
             [
              0.5555555555555556,
              "#d8576b"
             ],
             [
              0.6666666666666666,
              "#ed7953"
             ],
             [
              0.7777777777777778,
              "#fb9f3a"
             ],
             [
              0.8888888888888888,
              "#fdca26"
             ],
             [
              1,
              "#f0f921"
             ]
            ],
            "type": "heatmapgl"
           }
          ],
          "histogram": [
           {
            "marker": {
             "colorbar": {
              "outlinewidth": 0,
              "ticks": ""
             }
            },
            "type": "histogram"
           }
          ],
          "histogram2d": [
           {
            "colorbar": {
             "outlinewidth": 0,
             "ticks": ""
            },
            "colorscale": [
             [
              0,
              "#0d0887"
             ],
             [
              0.1111111111111111,
              "#46039f"
             ],
             [
              0.2222222222222222,
              "#7201a8"
             ],
             [
              0.3333333333333333,
              "#9c179e"
             ],
             [
              0.4444444444444444,
              "#bd3786"
             ],
             [
              0.5555555555555556,
              "#d8576b"
             ],
             [
              0.6666666666666666,
              "#ed7953"
             ],
             [
              0.7777777777777778,
              "#fb9f3a"
             ],
             [
              0.8888888888888888,
              "#fdca26"
             ],
             [
              1,
              "#f0f921"
             ]
            ],
            "type": "histogram2d"
           }
          ],
          "histogram2dcontour": [
           {
            "colorbar": {
             "outlinewidth": 0,
             "ticks": ""
            },
            "colorscale": [
             [
              0,
              "#0d0887"
             ],
             [
              0.1111111111111111,
              "#46039f"
             ],
             [
              0.2222222222222222,
              "#7201a8"
             ],
             [
              0.3333333333333333,
              "#9c179e"
             ],
             [
              0.4444444444444444,
              "#bd3786"
             ],
             [
              0.5555555555555556,
              "#d8576b"
             ],
             [
              0.6666666666666666,
              "#ed7953"
             ],
             [
              0.7777777777777778,
              "#fb9f3a"
             ],
             [
              0.8888888888888888,
              "#fdca26"
             ],
             [
              1,
              "#f0f921"
             ]
            ],
            "type": "histogram2dcontour"
           }
          ],
          "mesh3d": [
           {
            "colorbar": {
             "outlinewidth": 0,
             "ticks": ""
            },
            "type": "mesh3d"
           }
          ],
          "parcoords": [
           {
            "line": {
             "colorbar": {
              "outlinewidth": 0,
              "ticks": ""
             }
            },
            "type": "parcoords"
           }
          ],
          "pie": [
           {
            "automargin": true,
            "type": "pie"
           }
          ],
          "scatter": [
           {
            "marker": {
             "colorbar": {
              "outlinewidth": 0,
              "ticks": ""
             }
            },
            "type": "scatter"
           }
          ],
          "scatter3d": [
           {
            "line": {
             "colorbar": {
              "outlinewidth": 0,
              "ticks": ""
             }
            },
            "marker": {
             "colorbar": {
              "outlinewidth": 0,
              "ticks": ""
             }
            },
            "type": "scatter3d"
           }
          ],
          "scattercarpet": [
           {
            "marker": {
             "colorbar": {
              "outlinewidth": 0,
              "ticks": ""
             }
            },
            "type": "scattercarpet"
           }
          ],
          "scattergeo": [
           {
            "marker": {
             "colorbar": {
              "outlinewidth": 0,
              "ticks": ""
             }
            },
            "type": "scattergeo"
           }
          ],
          "scattergl": [
           {
            "marker": {
             "colorbar": {
              "outlinewidth": 0,
              "ticks": ""
             }
            },
            "type": "scattergl"
           }
          ],
          "scattermapbox": [
           {
            "marker": {
             "colorbar": {
              "outlinewidth": 0,
              "ticks": ""
             }
            },
            "type": "scattermapbox"
           }
          ],
          "scatterpolar": [
           {
            "marker": {
             "colorbar": {
              "outlinewidth": 0,
              "ticks": ""
             }
            },
            "type": "scatterpolar"
           }
          ],
          "scatterpolargl": [
           {
            "marker": {
             "colorbar": {
              "outlinewidth": 0,
              "ticks": ""
             }
            },
            "type": "scatterpolargl"
           }
          ],
          "scatterternary": [
           {
            "marker": {
             "colorbar": {
              "outlinewidth": 0,
              "ticks": ""
             }
            },
            "type": "scatterternary"
           }
          ],
          "surface": [
           {
            "colorbar": {
             "outlinewidth": 0,
             "ticks": ""
            },
            "colorscale": [
             [
              0,
              "#0d0887"
             ],
             [
              0.1111111111111111,
              "#46039f"
             ],
             [
              0.2222222222222222,
              "#7201a8"
             ],
             [
              0.3333333333333333,
              "#9c179e"
             ],
             [
              0.4444444444444444,
              "#bd3786"
             ],
             [
              0.5555555555555556,
              "#d8576b"
             ],
             [
              0.6666666666666666,
              "#ed7953"
             ],
             [
              0.7777777777777778,
              "#fb9f3a"
             ],
             [
              0.8888888888888888,
              "#fdca26"
             ],
             [
              1,
              "#f0f921"
             ]
            ],
            "type": "surface"
           }
          ],
          "table": [
           {
            "cells": {
             "fill": {
              "color": "#EBF0F8"
             },
             "line": {
              "color": "white"
             }
            },
            "header": {
             "fill": {
              "color": "#C8D4E3"
             },
             "line": {
              "color": "white"
             }
            },
            "type": "table"
           }
          ]
         },
         "layout": {
          "annotationdefaults": {
           "arrowcolor": "#2a3f5f",
           "arrowhead": 0,
           "arrowwidth": 1
          },
          "coloraxis": {
           "colorbar": {
            "outlinewidth": 0,
            "ticks": ""
           }
          },
          "colorscale": {
           "diverging": [
            [
             0,
             "#8e0152"
            ],
            [
             0.1,
             "#c51b7d"
            ],
            [
             0.2,
             "#de77ae"
            ],
            [
             0.3,
             "#f1b6da"
            ],
            [
             0.4,
             "#fde0ef"
            ],
            [
             0.5,
             "#f7f7f7"
            ],
            [
             0.6,
             "#e6f5d0"
            ],
            [
             0.7,
             "#b8e186"
            ],
            [
             0.8,
             "#7fbc41"
            ],
            [
             0.9,
             "#4d9221"
            ],
            [
             1,
             "#276419"
            ]
           ],
           "sequential": [
            [
             0,
             "#0d0887"
            ],
            [
             0.1111111111111111,
             "#46039f"
            ],
            [
             0.2222222222222222,
             "#7201a8"
            ],
            [
             0.3333333333333333,
             "#9c179e"
            ],
            [
             0.4444444444444444,
             "#bd3786"
            ],
            [
             0.5555555555555556,
             "#d8576b"
            ],
            [
             0.6666666666666666,
             "#ed7953"
            ],
            [
             0.7777777777777778,
             "#fb9f3a"
            ],
            [
             0.8888888888888888,
             "#fdca26"
            ],
            [
             1,
             "#f0f921"
            ]
           ],
           "sequentialminus": [
            [
             0,
             "#0d0887"
            ],
            [
             0.1111111111111111,
             "#46039f"
            ],
            [
             0.2222222222222222,
             "#7201a8"
            ],
            [
             0.3333333333333333,
             "#9c179e"
            ],
            [
             0.4444444444444444,
             "#bd3786"
            ],
            [
             0.5555555555555556,
             "#d8576b"
            ],
            [
             0.6666666666666666,
             "#ed7953"
            ],
            [
             0.7777777777777778,
             "#fb9f3a"
            ],
            [
             0.8888888888888888,
             "#fdca26"
            ],
            [
             1,
             "#f0f921"
            ]
           ]
          },
          "colorway": [
           "#636efa",
           "#EF553B",
           "#00cc96",
           "#ab63fa",
           "#FFA15A",
           "#19d3f3",
           "#FF6692",
           "#B6E880",
           "#FF97FF",
           "#FECB52"
          ],
          "font": {
           "color": "#2a3f5f"
          },
          "geo": {
           "bgcolor": "white",
           "lakecolor": "white",
           "landcolor": "#E5ECF6",
           "showlakes": true,
           "showland": true,
           "subunitcolor": "white"
          },
          "hoverlabel": {
           "align": "left"
          },
          "hovermode": "closest",
          "mapbox": {
           "style": "light"
          },
          "paper_bgcolor": "white",
          "plot_bgcolor": "#E5ECF6",
          "polar": {
           "angularaxis": {
            "gridcolor": "white",
            "linecolor": "white",
            "ticks": ""
           },
           "bgcolor": "#E5ECF6",
           "radialaxis": {
            "gridcolor": "white",
            "linecolor": "white",
            "ticks": ""
           }
          },
          "scene": {
           "xaxis": {
            "backgroundcolor": "#E5ECF6",
            "gridcolor": "white",
            "gridwidth": 2,
            "linecolor": "white",
            "showbackground": true,
            "ticks": "",
            "zerolinecolor": "white"
           },
           "yaxis": {
            "backgroundcolor": "#E5ECF6",
            "gridcolor": "white",
            "gridwidth": 2,
            "linecolor": "white",
            "showbackground": true,
            "ticks": "",
            "zerolinecolor": "white"
           },
           "zaxis": {
            "backgroundcolor": "#E5ECF6",
            "gridcolor": "white",
            "gridwidth": 2,
            "linecolor": "white",
            "showbackground": true,
            "ticks": "",
            "zerolinecolor": "white"
           }
          },
          "shapedefaults": {
           "line": {
            "color": "#2a3f5f"
           }
          },
          "ternary": {
           "aaxis": {
            "gridcolor": "white",
            "linecolor": "white",
            "ticks": ""
           },
           "baxis": {
            "gridcolor": "white",
            "linecolor": "white",
            "ticks": ""
           },
           "bgcolor": "#E5ECF6",
           "caxis": {
            "gridcolor": "white",
            "linecolor": "white",
            "ticks": ""
           }
          },
          "title": {
           "x": 0.05
          },
          "xaxis": {
           "automargin": true,
           "gridcolor": "white",
           "linecolor": "white",
           "ticks": "",
           "title": {
            "standoff": 15
           },
           "zerolinecolor": "white",
           "zerolinewidth": 2
          },
          "yaxis": {
           "automargin": true,
           "gridcolor": "white",
           "linecolor": "white",
           "ticks": "",
           "title": {
            "standoff": 15
           },
           "zerolinecolor": "white",
           "zerolinewidth": 2
          }
         }
        },
        "title": {
         "text": "Top 25 Coins Profit Margin"
        },
        "width": 800,
        "xaxis": {
         "title": {
          "text": "Profit (%)"
         }
        },
        "yaxis": {
         "title": {
          "text": "Accuracy (%)"
         }
        }
       }
      },
      "text/html": [
       "<div>\n",
       "        \n",
       "        \n",
       "            <div id=\"60492930-189c-459a-9986-80fe6b9f906d\" class=\"plotly-graph-div\" style=\"height:650px; width:800px;\"></div>\n",
       "            <script type=\"text/javascript\">\n",
       "                require([\"plotly\"], function(Plotly) {\n",
       "                    window.PLOTLYENV=window.PLOTLYENV || {};\n",
       "                    \n",
       "                if (document.getElementById(\"60492930-189c-459a-9986-80fe6b9f906d\")) {\n",
       "                    Plotly.newPlot(\n",
       "                        '60492930-189c-459a-9986-80fe6b9f906d',\n",
       "                        [{\"marker\": {\"size\": [20]}, \"mode\": \"markers\", \"name\": \"binancecoin\", \"opacity\": 0.85, \"type\": \"scatter\", \"x\": [-4.74], \"y\": [79.98]}, {\"marker\": {\"size\": [20]}, \"mode\": \"markers\", \"name\": \"bitcoin\", \"opacity\": 0.85, \"type\": \"scatter\", \"x\": [-1.13], \"y\": [85.42]}, {\"marker\": {\"size\": [20]}, \"mode\": \"markers\", \"name\": \"bitcoin-cash\", \"opacity\": 0.85, \"type\": \"scatter\", \"x\": [0.79], \"y\": [87.64]}, {\"marker\": {\"size\": [20]}, \"mode\": \"markers\", \"name\": \"bitcoin-cash-sv\", \"opacity\": 0.85, \"type\": \"scatter\", \"x\": [5.82], \"y\": [75.87]}, {\"marker\": {\"size\": [20]}, \"mode\": \"markers\", \"name\": \"cardano\", \"opacity\": 0.85, \"type\": \"scatter\", \"x\": [14.4], \"y\": [99.56]}, {\"marker\": {\"size\": [20]}, \"mode\": \"markers\", \"name\": \"cdai\", \"opacity\": 0.85, \"type\": \"scatter\", \"x\": [0.43], \"y\": [99.99]}, {\"marker\": {\"size\": [20]}, \"mode\": \"markers\", \"name\": \"chainlink\", \"opacity\": 0.85, \"type\": \"scatter\", \"x\": [4.82], \"y\": [63.67]}, {\"marker\": {\"size\": [20]}, \"mode\": \"markers\", \"name\": \"cosmos\", \"opacity\": 0.85, \"type\": \"scatter\", \"x\": [2.56], \"y\": [94.32]}, {\"marker\": {\"size\": [20]}, \"mode\": \"markers\", \"name\": \"crypto-com-chain\", \"opacity\": 0.85, \"type\": \"scatter\", \"x\": [7.53], \"y\": [99.3]}, {\"marker\": {\"size\": [20]}, \"mode\": \"markers\", \"name\": \"eos\", \"opacity\": 0.85, \"type\": \"scatter\", \"x\": [-2.65], \"y\": [90.42]}, {\"marker\": {\"size\": [20]}, \"mode\": \"markers\", \"name\": \"ethereum\", \"opacity\": 0.85, \"type\": \"scatter\", \"x\": [-6.35], \"y\": [76.85]}, {\"marker\": {\"size\": [20]}, \"mode\": \"markers\", \"name\": \"huobi-token\", \"opacity\": 0.85, \"type\": \"scatter\", \"x\": [1.25], \"y\": [95.21]}, {\"marker\": {\"size\": [20]}, \"mode\": \"markers\", \"name\": \"iota\", \"opacity\": 0.85, \"type\": \"scatter\", \"x\": [10.05], \"y\": [98.63]}, {\"marker\": {\"size\": [20]}, \"mode\": \"markers\", \"name\": \"leo-token\", \"opacity\": 0.85, \"type\": \"scatter\", \"x\": [22.18], \"y\": [98.88]}, {\"marker\": {\"size\": [20]}, \"mode\": \"markers\", \"name\": \"litecoin\", \"opacity\": 0.85, \"type\": \"scatter\", \"x\": [1.58], \"y\": [85.41]}, {\"marker\": {\"size\": [20]}, \"mode\": \"markers\", \"name\": \"monero\", \"opacity\": 0.85, \"type\": \"scatter\", \"x\": [0.62], \"y\": [84.2]}, {\"marker\": {\"size\": [20]}, \"mode\": \"markers\", \"name\": \"neo\", \"opacity\": 0.85, \"type\": \"scatter\", \"x\": [0.32], \"y\": [68.78]}, {\"marker\": {\"size\": [20]}, \"mode\": \"markers\", \"name\": \"okb\", \"opacity\": 0.85, \"type\": \"scatter\", \"x\": [12.6], \"y\": [92.49]}, {\"marker\": {\"size\": [20]}, \"mode\": \"markers\", \"name\": \"ripple\", \"opacity\": 0.85, \"type\": \"scatter\", \"x\": [3.32], \"y\": [95.14]}, {\"marker\": {\"size\": [20]}, \"mode\": \"markers\", \"name\": \"stellar\", \"opacity\": 0.85, \"type\": \"scatter\", \"x\": [29.74], \"y\": [96.67]}, {\"marker\": {\"size\": [20]}, \"mode\": \"markers\", \"name\": \"tether\", \"opacity\": 0.85, \"type\": \"scatter\", \"x\": [-0.02], \"y\": [99.44]}, {\"marker\": {\"size\": [20]}, \"mode\": \"markers\", \"name\": \"tezos\", \"opacity\": 0.85, \"type\": \"scatter\", \"x\": [8.09], \"y\": [92.01]}, {\"marker\": {\"size\": [20]}, \"mode\": \"markers\", \"name\": \"tron\", \"opacity\": 0.85, \"type\": \"scatter\", \"x\": [-6.45], \"y\": [98.98]}, {\"marker\": {\"size\": [20]}, \"mode\": \"markers\", \"name\": \"usd-coin\", \"opacity\": 0.85, \"type\": \"scatter\", \"x\": [0.01], \"y\": [99.94]}, {\"marker\": {\"size\": [20]}, \"mode\": \"markers\", \"name\": \"vechain\", \"opacity\": 0.85, \"type\": \"scatter\", \"x\": [31.16], \"y\": [99.87]}],\n",
       "                        {\"autosize\": false, \"font\": {\"color\": \"#7f7f7f\", \"family\": \"Courier New, monospace\", \"size\": 18}, \"height\": 650, \"template\": {\"data\": {\"bar\": [{\"error_x\": {\"color\": \"#2a3f5f\"}, \"error_y\": {\"color\": \"#2a3f5f\"}, \"marker\": {\"line\": {\"color\": \"#E5ECF6\", \"width\": 0.5}}, \"type\": \"bar\"}], \"barpolar\": [{\"marker\": {\"line\": {\"color\": \"#E5ECF6\", \"width\": 0.5}}, \"type\": \"barpolar\"}], \"carpet\": [{\"aaxis\": {\"endlinecolor\": \"#2a3f5f\", \"gridcolor\": \"white\", \"linecolor\": \"white\", \"minorgridcolor\": \"white\", \"startlinecolor\": \"#2a3f5f\"}, \"baxis\": {\"endlinecolor\": \"#2a3f5f\", \"gridcolor\": \"white\", \"linecolor\": \"white\", \"minorgridcolor\": \"white\", \"startlinecolor\": \"#2a3f5f\"}, \"type\": \"carpet\"}], \"choropleth\": [{\"colorbar\": {\"outlinewidth\": 0, \"ticks\": \"\"}, \"type\": \"choropleth\"}], \"contour\": [{\"colorbar\": {\"outlinewidth\": 0, \"ticks\": \"\"}, \"colorscale\": [[0.0, \"#0d0887\"], [0.1111111111111111, \"#46039f\"], [0.2222222222222222, \"#7201a8\"], [0.3333333333333333, \"#9c179e\"], [0.4444444444444444, \"#bd3786\"], [0.5555555555555556, \"#d8576b\"], [0.6666666666666666, \"#ed7953\"], [0.7777777777777778, \"#fb9f3a\"], [0.8888888888888888, \"#fdca26\"], [1.0, \"#f0f921\"]], \"type\": \"contour\"}], \"contourcarpet\": [{\"colorbar\": {\"outlinewidth\": 0, \"ticks\": \"\"}, \"type\": \"contourcarpet\"}], \"heatmap\": [{\"colorbar\": {\"outlinewidth\": 0, \"ticks\": \"\"}, \"colorscale\": [[0.0, \"#0d0887\"], [0.1111111111111111, \"#46039f\"], [0.2222222222222222, \"#7201a8\"], [0.3333333333333333, \"#9c179e\"], [0.4444444444444444, \"#bd3786\"], [0.5555555555555556, \"#d8576b\"], [0.6666666666666666, \"#ed7953\"], [0.7777777777777778, \"#fb9f3a\"], [0.8888888888888888, \"#fdca26\"], [1.0, \"#f0f921\"]], \"type\": \"heatmap\"}], \"heatmapgl\": [{\"colorbar\": {\"outlinewidth\": 0, \"ticks\": \"\"}, \"colorscale\": [[0.0, \"#0d0887\"], [0.1111111111111111, \"#46039f\"], [0.2222222222222222, \"#7201a8\"], [0.3333333333333333, \"#9c179e\"], [0.4444444444444444, \"#bd3786\"], [0.5555555555555556, \"#d8576b\"], [0.6666666666666666, \"#ed7953\"], [0.7777777777777778, \"#fb9f3a\"], [0.8888888888888888, \"#fdca26\"], [1.0, \"#f0f921\"]], \"type\": \"heatmapgl\"}], \"histogram\": [{\"marker\": {\"colorbar\": {\"outlinewidth\": 0, \"ticks\": \"\"}}, \"type\": \"histogram\"}], \"histogram2d\": [{\"colorbar\": {\"outlinewidth\": 0, \"ticks\": \"\"}, \"colorscale\": [[0.0, \"#0d0887\"], [0.1111111111111111, \"#46039f\"], [0.2222222222222222, \"#7201a8\"], [0.3333333333333333, \"#9c179e\"], [0.4444444444444444, \"#bd3786\"], [0.5555555555555556, \"#d8576b\"], [0.6666666666666666, \"#ed7953\"], [0.7777777777777778, \"#fb9f3a\"], [0.8888888888888888, \"#fdca26\"], [1.0, \"#f0f921\"]], \"type\": \"histogram2d\"}], \"histogram2dcontour\": [{\"colorbar\": {\"outlinewidth\": 0, \"ticks\": \"\"}, \"colorscale\": [[0.0, \"#0d0887\"], [0.1111111111111111, \"#46039f\"], [0.2222222222222222, \"#7201a8\"], [0.3333333333333333, \"#9c179e\"], [0.4444444444444444, \"#bd3786\"], [0.5555555555555556, \"#d8576b\"], [0.6666666666666666, \"#ed7953\"], [0.7777777777777778, \"#fb9f3a\"], [0.8888888888888888, \"#fdca26\"], [1.0, \"#f0f921\"]], \"type\": \"histogram2dcontour\"}], \"mesh3d\": [{\"colorbar\": {\"outlinewidth\": 0, \"ticks\": \"\"}, \"type\": \"mesh3d\"}], \"parcoords\": [{\"line\": {\"colorbar\": {\"outlinewidth\": 0, \"ticks\": \"\"}}, \"type\": \"parcoords\"}], \"pie\": [{\"automargin\": true, \"type\": \"pie\"}], \"scatter\": [{\"marker\": {\"colorbar\": {\"outlinewidth\": 0, \"ticks\": \"\"}}, \"type\": \"scatter\"}], \"scatter3d\": [{\"line\": {\"colorbar\": {\"outlinewidth\": 0, \"ticks\": \"\"}}, \"marker\": {\"colorbar\": {\"outlinewidth\": 0, \"ticks\": \"\"}}, \"type\": \"scatter3d\"}], \"scattercarpet\": [{\"marker\": {\"colorbar\": {\"outlinewidth\": 0, \"ticks\": \"\"}}, \"type\": \"scattercarpet\"}], \"scattergeo\": [{\"marker\": {\"colorbar\": {\"outlinewidth\": 0, \"ticks\": \"\"}}, \"type\": \"scattergeo\"}], \"scattergl\": [{\"marker\": {\"colorbar\": {\"outlinewidth\": 0, \"ticks\": \"\"}}, \"type\": \"scattergl\"}], \"scattermapbox\": [{\"marker\": {\"colorbar\": {\"outlinewidth\": 0, \"ticks\": \"\"}}, \"type\": \"scattermapbox\"}], \"scatterpolar\": [{\"marker\": {\"colorbar\": {\"outlinewidth\": 0, \"ticks\": \"\"}}, \"type\": \"scatterpolar\"}], \"scatterpolargl\": [{\"marker\": {\"colorbar\": {\"outlinewidth\": 0, \"ticks\": \"\"}}, \"type\": \"scatterpolargl\"}], \"scatterternary\": [{\"marker\": {\"colorbar\": {\"outlinewidth\": 0, \"ticks\": \"\"}}, \"type\": \"scatterternary\"}], \"surface\": [{\"colorbar\": {\"outlinewidth\": 0, \"ticks\": \"\"}, \"colorscale\": [[0.0, \"#0d0887\"], [0.1111111111111111, \"#46039f\"], [0.2222222222222222, \"#7201a8\"], [0.3333333333333333, \"#9c179e\"], [0.4444444444444444, \"#bd3786\"], [0.5555555555555556, \"#d8576b\"], [0.6666666666666666, \"#ed7953\"], [0.7777777777777778, \"#fb9f3a\"], [0.8888888888888888, \"#fdca26\"], [1.0, \"#f0f921\"]], \"type\": \"surface\"}], \"table\": [{\"cells\": {\"fill\": {\"color\": \"#EBF0F8\"}, \"line\": {\"color\": \"white\"}}, \"header\": {\"fill\": {\"color\": \"#C8D4E3\"}, \"line\": {\"color\": \"white\"}}, \"type\": \"table\"}]}, \"layout\": {\"annotationdefaults\": {\"arrowcolor\": \"#2a3f5f\", \"arrowhead\": 0, \"arrowwidth\": 1}, \"coloraxis\": {\"colorbar\": {\"outlinewidth\": 0, \"ticks\": \"\"}}, \"colorscale\": {\"diverging\": [[0, \"#8e0152\"], [0.1, \"#c51b7d\"], [0.2, \"#de77ae\"], [0.3, \"#f1b6da\"], [0.4, \"#fde0ef\"], [0.5, \"#f7f7f7\"], [0.6, \"#e6f5d0\"], [0.7, \"#b8e186\"], [0.8, \"#7fbc41\"], [0.9, \"#4d9221\"], [1, \"#276419\"]], \"sequential\": [[0.0, \"#0d0887\"], [0.1111111111111111, \"#46039f\"], [0.2222222222222222, \"#7201a8\"], [0.3333333333333333, \"#9c179e\"], [0.4444444444444444, \"#bd3786\"], [0.5555555555555556, \"#d8576b\"], [0.6666666666666666, \"#ed7953\"], [0.7777777777777778, \"#fb9f3a\"], [0.8888888888888888, \"#fdca26\"], [1.0, \"#f0f921\"]], \"sequentialminus\": [[0.0, \"#0d0887\"], [0.1111111111111111, \"#46039f\"], [0.2222222222222222, \"#7201a8\"], [0.3333333333333333, \"#9c179e\"], [0.4444444444444444, \"#bd3786\"], [0.5555555555555556, \"#d8576b\"], [0.6666666666666666, \"#ed7953\"], [0.7777777777777778, \"#fb9f3a\"], [0.8888888888888888, \"#fdca26\"], [1.0, \"#f0f921\"]]}, \"colorway\": [\"#636efa\", \"#EF553B\", \"#00cc96\", \"#ab63fa\", \"#FFA15A\", \"#19d3f3\", \"#FF6692\", \"#B6E880\", \"#FF97FF\", \"#FECB52\"], \"font\": {\"color\": \"#2a3f5f\"}, \"geo\": {\"bgcolor\": \"white\", \"lakecolor\": \"white\", \"landcolor\": \"#E5ECF6\", \"showlakes\": true, \"showland\": true, \"subunitcolor\": \"white\"}, \"hoverlabel\": {\"align\": \"left\"}, \"hovermode\": \"closest\", \"mapbox\": {\"style\": \"light\"}, \"paper_bgcolor\": \"white\", \"plot_bgcolor\": \"#E5ECF6\", \"polar\": {\"angularaxis\": {\"gridcolor\": \"white\", \"linecolor\": \"white\", \"ticks\": \"\"}, \"bgcolor\": \"#E5ECF6\", \"radialaxis\": {\"gridcolor\": \"white\", \"linecolor\": \"white\", \"ticks\": \"\"}}, \"scene\": {\"xaxis\": {\"backgroundcolor\": \"#E5ECF6\", \"gridcolor\": \"white\", \"gridwidth\": 2, \"linecolor\": \"white\", \"showbackground\": true, \"ticks\": \"\", \"zerolinecolor\": \"white\"}, \"yaxis\": {\"backgroundcolor\": \"#E5ECF6\", \"gridcolor\": \"white\", \"gridwidth\": 2, \"linecolor\": \"white\", \"showbackground\": true, \"ticks\": \"\", \"zerolinecolor\": \"white\"}, \"zaxis\": {\"backgroundcolor\": \"#E5ECF6\", \"gridcolor\": \"white\", \"gridwidth\": 2, \"linecolor\": \"white\", \"showbackground\": true, \"ticks\": \"\", \"zerolinecolor\": \"white\"}}, \"shapedefaults\": {\"line\": {\"color\": \"#2a3f5f\"}}, \"ternary\": {\"aaxis\": {\"gridcolor\": \"white\", \"linecolor\": \"white\", \"ticks\": \"\"}, \"baxis\": {\"gridcolor\": \"white\", \"linecolor\": \"white\", \"ticks\": \"\"}, \"bgcolor\": \"#E5ECF6\", \"caxis\": {\"gridcolor\": \"white\", \"linecolor\": \"white\", \"ticks\": \"\"}}, \"title\": {\"x\": 0.05}, \"xaxis\": {\"automargin\": true, \"gridcolor\": \"white\", \"linecolor\": \"white\", \"ticks\": \"\", \"title\": {\"standoff\": 15}, \"zerolinecolor\": \"white\", \"zerolinewidth\": 2}, \"yaxis\": {\"automargin\": true, \"gridcolor\": \"white\", \"linecolor\": \"white\", \"ticks\": \"\", \"title\": {\"standoff\": 15}, \"zerolinecolor\": \"white\", \"zerolinewidth\": 2}}}, \"title\": {\"text\": \"Top 25 Coins Profit Margin\"}, \"width\": 800, \"xaxis\": {\"title\": {\"text\": \"Profit (%)\"}}, \"yaxis\": {\"title\": {\"text\": \"Accuracy (%)\"}}},\n",
       "                        {\"responsive\": true}\n",
       "                    ).then(function(){\n",
       "                            \n",
       "var gd = document.getElementById('60492930-189c-459a-9986-80fe6b9f906d');\n",
       "var x = new MutationObserver(function (mutations, observer) {{\n",
       "        var display = window.getComputedStyle(gd).display;\n",
       "        if (!display || display === 'none') {{\n",
       "            console.log([gd, 'removed!']);\n",
       "            Plotly.purge(gd);\n",
       "            observer.disconnect();\n",
       "        }}\n",
       "}});\n",
       "\n",
       "// Listen for the removal of the full notebook cells\n",
       "var notebookContainer = gd.closest('#notebook-container');\n",
       "if (notebookContainer) {{\n",
       "    x.observe(notebookContainer, {childList: true});\n",
       "}}\n",
       "\n",
       "// Listen for the clearing of the current output cell\n",
       "var outputEl = gd.closest('.output');\n",
       "if (outputEl) {{\n",
       "    x.observe(outputEl, {childList: true});\n",
       "}}\n",
       "\n",
       "                        })\n",
       "                };\n",
       "                });\n",
       "            </script>\n",
       "        </div>"
      ]
     },
     "metadata": {},
     "output_type": "display_data"
    }
   ],
   "source": [
    "data = open_data('./data/08-20-20', sort_key = 'name')\n",
    "plot_best_data(data)"
   ]
  },
  {
   "cell_type": "code",
   "execution_count": 14,
   "metadata": {},
   "outputs": [
    {
     "data": {
      "application/vnd.plotly.v1+json": {
       "config": {
        "plotlyServerURL": "https://plot.ly"
       },
       "data": [
        {
         "line": {
          "color": "red"
         },
         "mode": "lines",
         "name": "present    (2020/02/26-2020/08/24)",
         "type": "scatter",
         "x": [
          0,
          1,
          2,
          3,
          4,
          5,
          6,
          7,
          8,
          9,
          10,
          11,
          12,
          13,
          14,
          15,
          16,
          17,
          18,
          19,
          20,
          21,
          22,
          23,
          24,
          25,
          26,
          27,
          28,
          29,
          30,
          31,
          32,
          33,
          34,
          35,
          36,
          37,
          38,
          39,
          40,
          41,
          42,
          43,
          44,
          45,
          46,
          47,
          48,
          49,
          50,
          51,
          52,
          53,
          54,
          55,
          56,
          57,
          58,
          59,
          60,
          61,
          62,
          63,
          64,
          65,
          66,
          67,
          68,
          69,
          70,
          71,
          72,
          73,
          74,
          75,
          76,
          77,
          78,
          79,
          80,
          81,
          82,
          83,
          84,
          85,
          86,
          87,
          88,
          89,
          90,
          91,
          92,
          93,
          94,
          95,
          96,
          97,
          98,
          99,
          100,
          101,
          102,
          103,
          104,
          105,
          106,
          107,
          108,
          109,
          110,
          111,
          112,
          113,
          114,
          115,
          116,
          117,
          118,
          119,
          120,
          121,
          122,
          123,
          124,
          125,
          126,
          127,
          128,
          129,
          130,
          131,
          132,
          133,
          134,
          135,
          136,
          137,
          138,
          139,
          140,
          141,
          142,
          143,
          144,
          145,
          146,
          147,
          148,
          149,
          150,
          151,
          152,
          153,
          154,
          155,
          156,
          157,
          158,
          159,
          160,
          161,
          162,
          163,
          164,
          165,
          166,
          167,
          168,
          169,
          170,
          171,
          172,
          173,
          174,
          175,
          176,
          177,
          178,
          179,
          180,
          181,
          182,
          183
         ],
         "y": [
          85.04582579194673,
          79.2696763733346,
          76.97181697654162,
          70.70373286237789,
          69.92129450148055,
          68.63780839924877,
          66.12140560507409,
          64.63436298601555,
          68.79139422987339,
          65.9162172708104,
          65.79158614799478,
          68.51309117732748,
          68.9518518383828,
          65.6985413061043,
          56.3259305275865,
          55.56055956636673,
          54.940004443428876,
          54.250827022080074,
          32.51244849562076,
          36.83026909547622,
          36.15182619081327,
          38.00490766255599,
          34.1140643219383,
          36.46182692634435,
          36.838188827210544,
          40.90926249569054,
          40.12497701819938,
          41.09977600384332,
          38.28264411273819,
          44.39554833068499,
          47.31372763881426,
          47.10863048483567,
          50.61204647278417,
          47.45706587968749,
          47.29057301114516,
          44.20292817053849,
          46.62308765441908,
          47.86627431171591,
          48.642479665378715,
          50.87037379201055,
          52.90947492387215,
          54.17339322761651,
          53.39644216947507,
          58.4790476776155,
          55.907413407559616,
          57.8048957645898,
          58.45753745378177,
          53.720852211103676,
          53.864987775127474,
          53.69715660101432,
          53.09539762625555,
          54.15867947451329,
          53.17221590484347,
          56.65770804389517,
          56.12118072184268,
          58.01592554673464,
          57.1765633447468,
          54.90997711435001,
          55.10108390626169,
          56.871062654458484,
          58.66587907663752,
          60.675916675003656,
          60.49130487081715,
          61.35064408643028,
          62.30020884963849,
          62.19192458519788,
          66.19771536212868,
          62.07621545999171,
          63.179594794649226,
          64.4668833116909,
          62.41645441212959,
          61.05049675616736,
          60.401926276532684,
          58.279418304087656,
          64.56305064836383,
          63.22510266790515,
          63.100815719840504,
          58.88170838595826,
          59.406268710474976,
          61.46553626253166,
          64.9279248671428,
          65.19886800171784,
          62.6248691543107,
          65.1338511197484,
          65.08025176043105,
          66.8427888280125,
          66.6852937209509,
          64.6400402383215,
          61.471679462716516,
          62.950121861059635,
          63.43297279391219,
          60.62034388377683,
          61.439926176942414,
          61.83349722475551,
          64.50215791299853,
          67.08538933461975,
          66.05144864135562,
          68.28668109665689,
          65.09574085162089,
          67.78404034475888,
          66.52579408363718,
          67.06741016332128,
          68.67822596972024,
          67.36266782214904,
          67.70439831555156,
          66.40890767007033,
          68.24875436961732,
          68.06623634894198,
          69.58938051801651,
          63.93709015299112,
          65.71185937164115,
          66.53347950712953,
          65.46972554375463,
          64.61350572602693,
          65.90811885395041,
          65.23285800819505,
          64.94954604388556,
          64.1363692559643,
          63.97558527081168,
          64.4270743226233,
          66.08858398306258,
          66.80378028645367,
          64.78278742262133,
          64.33697036620008,
          64.0256586199465,
          62.139644936063526,
          63.24856901516695,
          64.13484439801192,
          63.60568715966468,
          64.5705042427957,
          65.3606751924626,
          62.683861203572796,
          64.12295271190597,
          63.312126555794904,
          64.8759070175235,
          64.50807969268534,
          66.22712420391908,
          67.43451033972325,
          67.39474483374104,
          68.66867136775464,
          69.25390119024333,
          69.19021333435519,
          67.93687926339923,
          70.80328047320035,
          67.60702791112269,
          67.64633549046407,
          68.31995581506928,
          68.8527324299868,
          69.31718050483776,
          69.78179777349933,
          71.32187749085742,
          72.9864735364602,
          71.65514999749674,
          73.55171847209925,
          78.05271861988334,
          78.160868545082,
          81.23059516382692,
          79.10759387412645,
          81.2253124725688,
          84.58013533108739,
          89.69934485206761,
          85.04260148592164,
          89.15602195090503,
          87.25085122962814,
          90.18542808592383,
          96.06193594464662,
          93.63533470200314,
          94.76184697242479,
          92.87670959067981,
          93.60984442223983,
          87.46371391814907,
          89.75745631121731,
          92.1297858574132,
          91.54208735189495,
          89.9334954469506,
          91.22725325387069,
          93.26293001586482,
          93.28441725910301,
          91.20434780575135,
          101.301967190035,
          92.23060148868288,
          94.76870004804992,
          91.21214502501105,
          93.38166874760182
         ]
        },
        {
         "line": {
          "color": "blue"
         },
         "mode": "lines",
         "name": "true       (2020/02/26-2020/08/20)",
         "type": "scatter",
         "x": [
          0,
          1,
          2,
          3,
          4,
          5,
          6,
          7,
          8,
          9,
          10,
          11,
          12,
          13,
          14,
          15,
          16,
          17,
          18,
          19,
          20,
          21,
          22,
          23,
          24,
          25,
          26,
          27,
          28,
          29,
          30,
          31,
          32,
          33,
          34,
          35,
          36,
          37,
          38,
          39,
          40,
          41,
          42,
          43,
          44,
          45,
          46,
          47,
          48,
          49,
          50,
          51,
          52,
          53,
          54,
          55,
          56,
          57,
          58,
          59,
          60,
          61,
          62,
          63,
          64,
          65,
          66,
          67,
          68,
          69,
          70,
          71,
          72,
          73,
          74,
          75,
          76,
          77,
          78,
          79,
          80,
          81,
          82,
          83,
          84,
          85,
          86,
          87,
          88,
          89,
          90,
          91,
          92,
          93,
          94,
          95,
          96,
          97,
          98,
          99,
          100,
          101,
          102,
          103,
          104,
          105,
          106,
          107,
          108,
          109,
          110,
          111,
          112,
          113,
          114,
          115,
          116,
          117,
          118,
          119,
          120,
          121,
          122,
          123,
          124,
          125,
          126,
          127,
          128,
          129,
          130,
          131,
          132,
          133,
          134,
          135,
          136,
          137,
          138,
          139,
          140,
          141,
          142,
          143,
          144,
          145,
          146,
          147,
          148,
          149,
          150,
          151,
          152,
          153,
          154,
          155,
          156,
          157,
          158,
          159,
          160,
          161,
          162,
          163,
          164,
          165,
          166,
          167,
          168,
          169,
          170,
          171,
          172,
          173,
          174,
          175,
          176,
          177,
          178,
          179
         ],
         "y": [
          85.04582579194673,
          79.2696763733346,
          76.97181697654162,
          70.70373286237789,
          69.92129450148055,
          68.63780839924877,
          66.12140560507409,
          64.63436298601555,
          68.79139422987339,
          65.9162172708104,
          65.79158614799478,
          68.51309117732748,
          68.9518518383828,
          65.6985413061043,
          56.3259305275865,
          55.56055956636673,
          54.940004443428876,
          54.250827022080074,
          32.51244849562076,
          36.83026909547622,
          36.15182619081327,
          38.00490766255599,
          34.1140643219383,
          36.46182692634435,
          36.838188827210544,
          40.90926249569054,
          40.12497701819938,
          41.09977600384332,
          38.28264411273819,
          44.39554833068499,
          47.31372763881426,
          47.10863048483567,
          50.61204647278417,
          47.45706587968749,
          47.29057301114516,
          44.20292817053849,
          46.62308765441908,
          47.86627431171591,
          48.642479665378715,
          50.87037379201055,
          52.90947492387215,
          54.17339322761651,
          53.39644216947507,
          58.4790476776155,
          55.907413407559616,
          57.8048957645898,
          58.45753745378177,
          53.720852211103676,
          53.864987775127474,
          53.69715660101432,
          53.09539762625555,
          54.15867947451329,
          53.17221590484347,
          56.65770804389517,
          56.12118072184268,
          58.01592554673464,
          57.1765633447468,
          54.90997711435001,
          55.10108390626169,
          56.871062654458484,
          58.66587907663752,
          60.675916675003656,
          60.49130487081715,
          61.35064408643028,
          62.30020884963849,
          62.19192458519788,
          66.19771536212868,
          62.07621545999171,
          63.179594794649226,
          64.4668833116909,
          62.41645441212959,
          61.05049675616736,
          60.401926276532684,
          58.279418304087656,
          64.56305064836383,
          63.22510266790515,
          63.100815719840504,
          58.88170838595826,
          59.406268710474976,
          61.46553626253166,
          64.9279248671428,
          65.19886800171784,
          62.6248691543107,
          65.1338511197484,
          65.08025176043105,
          66.8427888280125,
          66.6852937209509,
          64.6400402383215,
          61.471679462716516,
          62.950121861059635,
          63.43297279391219,
          60.62034388377683,
          61.439926176942414,
          61.83349722475551,
          64.50215791299853,
          67.08538933461975,
          66.05144864135562,
          68.28668109665689,
          65.09574085162089,
          67.78404034475888,
          66.52579408363718,
          67.06741016332128,
          68.67822596972024,
          67.36266782214904,
          67.70439831555156,
          66.40890767007033,
          68.24875436961732,
          68.06623634894198,
          69.58938051801651,
          63.93709015299112,
          65.71185937164115,
          66.53347950712953,
          65.46972554375463,
          64.61350572602693,
          65.90811885395041,
          65.23285800819505,
          64.94954604388556,
          64.1363692559643,
          63.97558527081168,
          64.4270743226233,
          66.08858398306258,
          66.80378028645367,
          64.78278742262133,
          64.33697036620008,
          64.0256586199465,
          62.139644936063526,
          63.24856901516695,
          64.13484439801192,
          63.60568715966468,
          64.5705042427957,
          65.3606751924626,
          62.683861203572796,
          64.12295271190597,
          63.312126555794904,
          64.8759070175235,
          64.50807969268534,
          66.22712420391908,
          67.43451033972325,
          67.39474483374104,
          68.66867136775464,
          69.25390119024333,
          69.19021333435519,
          67.93687926339923,
          70.80328047320035,
          67.60702791112269,
          67.64633549046407,
          68.31995581506928,
          68.8527324299868,
          69.31718050483776,
          69.78179777349933,
          71.32187749085742,
          72.9864735364602,
          71.65514999749674,
          73.55171847209925,
          78.05271861988334,
          78.160868545082,
          81.23059516382692,
          79.10759387412645,
          81.2253124725688,
          84.58013533108739,
          89.69934485206761,
          85.04260148592164,
          89.15602195090503,
          87.25085122962814,
          90.18542808592383,
          96.06193594464662,
          93.63533470200314,
          94.76184697242479,
          92.87670959067981,
          93.60984442223983,
          87.46371391814907,
          89.75745631121731,
          92.1297858574132,
          91.54208735189495,
          89.9334954469506,
          91.22725325387069,
          93.26293001586482,
          93.28441725910301,
          91.20434780575135,
          97.6540592888318
         ]
        },
        {
         "line": {
          "color": "green"
         },
         "mode": "lines",
         "name": "simulation (2020/02/26-2020/09/19)",
         "type": "scatter",
         "visible": "legendonly",
         "x": [
          0,
          1,
          2,
          3,
          4,
          5,
          6,
          7,
          8,
          9,
          10,
          11,
          12,
          13,
          14,
          15,
          16,
          17,
          18,
          19,
          20,
          21,
          22,
          23,
          24,
          25,
          26,
          27,
          28,
          29,
          30,
          31,
          32,
          33,
          34,
          35,
          36,
          37,
          38,
          39,
          40,
          41,
          42,
          43,
          44,
          45,
          46,
          47,
          48,
          49,
          50,
          51,
          52,
          53,
          54,
          55,
          56,
          57,
          58,
          59,
          60,
          61,
          62,
          63,
          64,
          65,
          66,
          67,
          68,
          69,
          70,
          71,
          72,
          73,
          74,
          75,
          76,
          77,
          78,
          79,
          80,
          81,
          82,
          83,
          84,
          85,
          86,
          87,
          88,
          89,
          90,
          91,
          92,
          93,
          94,
          95,
          96,
          97,
          98,
          99,
          100,
          101,
          102,
          103,
          104,
          105,
          106,
          107,
          108,
          109,
          110,
          111,
          112,
          113,
          114,
          115,
          116,
          117,
          118,
          119,
          120,
          121,
          122,
          123,
          124,
          125,
          126,
          127,
          128,
          129,
          130,
          131,
          132,
          133,
          134,
          135,
          136,
          137,
          138,
          139,
          140,
          141,
          142,
          143,
          144,
          145,
          146,
          147,
          148,
          149,
          150,
          151,
          152,
          153,
          154,
          155,
          156,
          157,
          158,
          159,
          160,
          161,
          162,
          163,
          164,
          165,
          166,
          167,
          168,
          169,
          170,
          171,
          172,
          173,
          174,
          175,
          176,
          177,
          178,
          179,
          180,
          181,
          182,
          183,
          184,
          185,
          186,
          187,
          188,
          189,
          190,
          191,
          192,
          193,
          194,
          195,
          196,
          197,
          198,
          199,
          200,
          201,
          202,
          203,
          204,
          205,
          206,
          207,
          208,
          209
         ],
         "y": [
          84.08756068435287,
          83.22290867738005,
          86.46240247688334,
          82.59970022716399,
          73.53730658656535,
          75.21122648845072,
          69.9932542309304,
          72.3518790536867,
          74.35137776502567,
          74.00039553079574,
          72.84011085532524,
          71.35586590395425,
          70.0910584418528,
          73.10840667768007,
          73.1492057895779,
          64.31278755455816,
          61.1981246227543,
          63.5431316128741,
          61.91506536325076,
          45.06598581515232,
          47.21232486533425,
          51.5208832979616,
          53.000813829605505,
          43.21904291687435,
          44.92415015586202,
          46.7405861795959,
          48.505255078882946,
          49.816162694164404,
          55.14064388489972,
          45.81936275988596,
          53.68891300047501,
          59.48282386315579,
          60.34561647962472,
          59.78417166323426,
          52.48511479918018,
          55.57675690094482,
          51.02698549830943,
          56.438312937816235,
          54.49759654186817,
          58.3600856326552,
          56.8962308380505,
          59.572107337560276,
          58.80007131283395,
          62.06508183203593,
          62.26405964725384,
          62.072964403445866,
          66.77384491492734,
          70.57016945037128,
          62.850917248157145,
          55.634845835946415,
          56.34988697894786,
          67.33419580876114,
          62.824650542902376,
          62.19065555077512,
          64.05749641191593,
          66.51997757810105,
          66.5034724103349,
          65.3625319120963,
          61.757764101671036,
          60.87237167197398,
          67.86407283623947,
          67.85199819571591,
          69.61214046724795,
          71.52473685463919,
          67.90682221875906,
          74.00157592099842,
          69.2147868097993,
          71.70072111685943,
          68.66018553948217,
          70.87796789812839,
          74.64598813675434,
          69.29619487231135,
          67.25607225522313,
          62.208831420670805,
          60.31876476991854,
          67.4116856389596,
          65.8183964454372,
          68.36476106463492,
          64.56786904773679,
          61.06294541821922,
          61.44031973265901,
          69.93495141320406,
          71.90007980859492,
          69.1749251941404,
          72.00789220043643,
          72.40282210857535,
          71.57777718872296,
          73.46085708713281,
          70.50219291924847,
          70.9154331549507,
          67.47681185029691,
          70.1252352284969,
          69.99224174072432,
          68.0282591142308,
          73.03743104240957,
          68.09062810649615,
          72.68459780938166,
          69.53604530523393,
          68.40745498547123,
          68.38545873126822,
          74.76058945774074,
          70.58581342603838,
          76.04796878272236,
          77.623699989538,
          80.26737105584621,
          77.89650859104772,
          70.55518885949476,
          74.40004827311475,
          74.35609762930753,
          73.876555569527,
          68.52994697733867,
          68.12093228572125,
          69.18487309767428,
          73.08571946167712,
          69.69132054093689,
          70.25838966049055,
          72.39411549296602,
          73.48503419302483,
          69.61744007602647,
          68.03548294854538,
          67.03391920425983,
          68.41563669199206,
          72.33604117883672,
          69.21212964948185,
          67.39078532031905,
          62.68303123646332,
          67.5809271929896,
          64.81056759235052,
          63.71688199419417,
          68.8220423233291,
          64.33848463102292,
          72.3216934108493,
          67.55675616929953,
          68.85817727976628,
          67.3539081174714,
          70.64974049951806,
          64.84528794177199,
          71.4205288624863,
          69.01062652622514,
          70.29039378181268,
          74.23535830836349,
          72.05637765823059,
          73.49081119983686,
          76.03738030014618,
          71.43053703429642,
          67.72510228161217,
          68.76008462798549,
          70.71211181355793,
          66.82609203227733,
          66.7676244620635,
          74.22725970958393,
          76.14848087417646,
          73.60589059867961,
          72.17746918506734,
          75.88700287024447,
          79.65787140082432,
          74.87707266035439,
          81.30390894163273,
          80.12143513355821,
          87.92826653075585,
          88.4505529752648,
          88.74765280208939,
          89.0951330578705,
          85.16500060326088,
          83.23478706358775,
          85.80943144219847,
          89.37630729164073,
          89.6005917994227,
          90.71890104550211,
          91.06125207194577,
          95.27620302398898,
          83.27438510930344,
          87.53627963305178,
          88.6199438155237,
          89.34217321911558,
          87.79704699804424,
          90.2914521873563,
          95.21279464330965,
          92.34081290450871,
          90.4084491236158,
          96.89451657504563,
          98.2574700777463,
          95.03806845989307,
          91.81532371399496,
          93.80362031702204,
          92.60941738573148,
          90.70326234961557,
          85.60887945156571,
          83.16850162616895,
          79.1002580580485,
          85.88538532775739,
          85.94599327988112,
          83.94730185427315,
          82.61047961135654,
          86.37961203336619,
          85.98976430628315,
          85.654300523356,
          81.28551149667638,
          79.32477555875334,
          81.06869078446454,
          87.16467822694887,
          84.9620276289991,
          85.92416763232382,
          85.09919649617632,
          79.85293624532419,
          74.24580148977034,
          71.28643275332492,
          67.28628624583337,
          67.46451393362106,
          67.10162472778842
         ]
        },
        {
         "line": {
          "color": "black"
         },
         "mode": "lines",
         "name": "prediction (2020/08/20-2020/09/19)",
         "type": "scatter",
         "x": [
          180,
          181,
          182,
          183,
          184,
          185,
          186,
          187,
          188,
          189,
          190,
          191,
          192,
          193,
          194,
          195,
          196,
          197,
          198,
          199,
          200,
          201,
          202,
          203,
          204,
          205,
          206,
          207,
          208,
          209
         ],
         "y": [
          96.89451657504563,
          98.2574700777463,
          95.03806845989307,
          91.81532371399496,
          93.80362031702204,
          92.60941738573148,
          90.70326234961557,
          85.60887945156571,
          83.16850162616895,
          79.1002580580485,
          85.88538532775739,
          85.94599327988112,
          83.94730185427315,
          82.61047961135654,
          86.37961203336619,
          85.98976430628315,
          85.654300523356,
          81.28551149667638,
          79.32477555875334,
          81.06869078446454,
          87.16467822694887,
          84.9620276289991,
          85.92416763232382,
          85.09919649617632,
          79.85293624532419,
          74.24580148977034,
          71.28643275332492,
          67.28628624583337,
          67.46451393362106,
          67.10162472778842
         ]
        }
       ],
       "layout": {
        "autosize": false,
        "font": {
         "color": "#7f7f7f",
         "family": "Courier New, monospace",
         "size": 18
        },
        "height": 550,
        "legend": {
         "x": 0.01,
         "xanchor": "left",
         "y": -0.25,
         "yanchor": "top"
        },
        "template": {
         "data": {
          "bar": [
           {
            "error_x": {
             "color": "#2a3f5f"
            },
            "error_y": {
             "color": "#2a3f5f"
            },
            "marker": {
             "line": {
              "color": "#E5ECF6",
              "width": 0.5
             }
            },
            "type": "bar"
           }
          ],
          "barpolar": [
           {
            "marker": {
             "line": {
              "color": "#E5ECF6",
              "width": 0.5
             }
            },
            "type": "barpolar"
           }
          ],
          "carpet": [
           {
            "aaxis": {
             "endlinecolor": "#2a3f5f",
             "gridcolor": "white",
             "linecolor": "white",
             "minorgridcolor": "white",
             "startlinecolor": "#2a3f5f"
            },
            "baxis": {
             "endlinecolor": "#2a3f5f",
             "gridcolor": "white",
             "linecolor": "white",
             "minorgridcolor": "white",
             "startlinecolor": "#2a3f5f"
            },
            "type": "carpet"
           }
          ],
          "choropleth": [
           {
            "colorbar": {
             "outlinewidth": 0,
             "ticks": ""
            },
            "type": "choropleth"
           }
          ],
          "contour": [
           {
            "colorbar": {
             "outlinewidth": 0,
             "ticks": ""
            },
            "colorscale": [
             [
              0,
              "#0d0887"
             ],
             [
              0.1111111111111111,
              "#46039f"
             ],
             [
              0.2222222222222222,
              "#7201a8"
             ],
             [
              0.3333333333333333,
              "#9c179e"
             ],
             [
              0.4444444444444444,
              "#bd3786"
             ],
             [
              0.5555555555555556,
              "#d8576b"
             ],
             [
              0.6666666666666666,
              "#ed7953"
             ],
             [
              0.7777777777777778,
              "#fb9f3a"
             ],
             [
              0.8888888888888888,
              "#fdca26"
             ],
             [
              1,
              "#f0f921"
             ]
            ],
            "type": "contour"
           }
          ],
          "contourcarpet": [
           {
            "colorbar": {
             "outlinewidth": 0,
             "ticks": ""
            },
            "type": "contourcarpet"
           }
          ],
          "heatmap": [
           {
            "colorbar": {
             "outlinewidth": 0,
             "ticks": ""
            },
            "colorscale": [
             [
              0,
              "#0d0887"
             ],
             [
              0.1111111111111111,
              "#46039f"
             ],
             [
              0.2222222222222222,
              "#7201a8"
             ],
             [
              0.3333333333333333,
              "#9c179e"
             ],
             [
              0.4444444444444444,
              "#bd3786"
             ],
             [
              0.5555555555555556,
              "#d8576b"
             ],
             [
              0.6666666666666666,
              "#ed7953"
             ],
             [
              0.7777777777777778,
              "#fb9f3a"
             ],
             [
              0.8888888888888888,
              "#fdca26"
             ],
             [
              1,
              "#f0f921"
             ]
            ],
            "type": "heatmap"
           }
          ],
          "heatmapgl": [
           {
            "colorbar": {
             "outlinewidth": 0,
             "ticks": ""
            },
            "colorscale": [
             [
              0,
              "#0d0887"
             ],
             [
              0.1111111111111111,
              "#46039f"
             ],
             [
              0.2222222222222222,
              "#7201a8"
             ],
             [
              0.3333333333333333,
              "#9c179e"
             ],
             [
              0.4444444444444444,
              "#bd3786"
             ],
             [
              0.5555555555555556,
              "#d8576b"
             ],
             [
              0.6666666666666666,
              "#ed7953"
             ],
             [
              0.7777777777777778,
              "#fb9f3a"
             ],
             [
              0.8888888888888888,
              "#fdca26"
             ],
             [
              1,
              "#f0f921"
             ]
            ],
            "type": "heatmapgl"
           }
          ],
          "histogram": [
           {
            "marker": {
             "colorbar": {
              "outlinewidth": 0,
              "ticks": ""
             }
            },
            "type": "histogram"
           }
          ],
          "histogram2d": [
           {
            "colorbar": {
             "outlinewidth": 0,
             "ticks": ""
            },
            "colorscale": [
             [
              0,
              "#0d0887"
             ],
             [
              0.1111111111111111,
              "#46039f"
             ],
             [
              0.2222222222222222,
              "#7201a8"
             ],
             [
              0.3333333333333333,
              "#9c179e"
             ],
             [
              0.4444444444444444,
              "#bd3786"
             ],
             [
              0.5555555555555556,
              "#d8576b"
             ],
             [
              0.6666666666666666,
              "#ed7953"
             ],
             [
              0.7777777777777778,
              "#fb9f3a"
             ],
             [
              0.8888888888888888,
              "#fdca26"
             ],
             [
              1,
              "#f0f921"
             ]
            ],
            "type": "histogram2d"
           }
          ],
          "histogram2dcontour": [
           {
            "colorbar": {
             "outlinewidth": 0,
             "ticks": ""
            },
            "colorscale": [
             [
              0,
              "#0d0887"
             ],
             [
              0.1111111111111111,
              "#46039f"
             ],
             [
              0.2222222222222222,
              "#7201a8"
             ],
             [
              0.3333333333333333,
              "#9c179e"
             ],
             [
              0.4444444444444444,
              "#bd3786"
             ],
             [
              0.5555555555555556,
              "#d8576b"
             ],
             [
              0.6666666666666666,
              "#ed7953"
             ],
             [
              0.7777777777777778,
              "#fb9f3a"
             ],
             [
              0.8888888888888888,
              "#fdca26"
             ],
             [
              1,
              "#f0f921"
             ]
            ],
            "type": "histogram2dcontour"
           }
          ],
          "mesh3d": [
           {
            "colorbar": {
             "outlinewidth": 0,
             "ticks": ""
            },
            "type": "mesh3d"
           }
          ],
          "parcoords": [
           {
            "line": {
             "colorbar": {
              "outlinewidth": 0,
              "ticks": ""
             }
            },
            "type": "parcoords"
           }
          ],
          "pie": [
           {
            "automargin": true,
            "type": "pie"
           }
          ],
          "scatter": [
           {
            "marker": {
             "colorbar": {
              "outlinewidth": 0,
              "ticks": ""
             }
            },
            "type": "scatter"
           }
          ],
          "scatter3d": [
           {
            "line": {
             "colorbar": {
              "outlinewidth": 0,
              "ticks": ""
             }
            },
            "marker": {
             "colorbar": {
              "outlinewidth": 0,
              "ticks": ""
             }
            },
            "type": "scatter3d"
           }
          ],
          "scattercarpet": [
           {
            "marker": {
             "colorbar": {
              "outlinewidth": 0,
              "ticks": ""
             }
            },
            "type": "scattercarpet"
           }
          ],
          "scattergeo": [
           {
            "marker": {
             "colorbar": {
              "outlinewidth": 0,
              "ticks": ""
             }
            },
            "type": "scattergeo"
           }
          ],
          "scattergl": [
           {
            "marker": {
             "colorbar": {
              "outlinewidth": 0,
              "ticks": ""
             }
            },
            "type": "scattergl"
           }
          ],
          "scattermapbox": [
           {
            "marker": {
             "colorbar": {
              "outlinewidth": 0,
              "ticks": ""
             }
            },
            "type": "scattermapbox"
           }
          ],
          "scatterpolar": [
           {
            "marker": {
             "colorbar": {
              "outlinewidth": 0,
              "ticks": ""
             }
            },
            "type": "scatterpolar"
           }
          ],
          "scatterpolargl": [
           {
            "marker": {
             "colorbar": {
              "outlinewidth": 0,
              "ticks": ""
             }
            },
            "type": "scatterpolargl"
           }
          ],
          "scatterternary": [
           {
            "marker": {
             "colorbar": {
              "outlinewidth": 0,
              "ticks": ""
             }
            },
            "type": "scatterternary"
           }
          ],
          "surface": [
           {
            "colorbar": {
             "outlinewidth": 0,
             "ticks": ""
            },
            "colorscale": [
             [
              0,
              "#0d0887"
             ],
             [
              0.1111111111111111,
              "#46039f"
             ],
             [
              0.2222222222222222,
              "#7201a8"
             ],
             [
              0.3333333333333333,
              "#9c179e"
             ],
             [
              0.4444444444444444,
              "#bd3786"
             ],
             [
              0.5555555555555556,
              "#d8576b"
             ],
             [
              0.6666666666666666,
              "#ed7953"
             ],
             [
              0.7777777777777778,
              "#fb9f3a"
             ],
             [
              0.8888888888888888,
              "#fdca26"
             ],
             [
              1,
              "#f0f921"
             ]
            ],
            "type": "surface"
           }
          ],
          "table": [
           {
            "cells": {
             "fill": {
              "color": "#EBF0F8"
             },
             "line": {
              "color": "white"
             }
            },
            "header": {
             "fill": {
              "color": "#C8D4E3"
             },
             "line": {
              "color": "white"
             }
            },
            "type": "table"
           }
          ]
         },
         "layout": {
          "annotationdefaults": {
           "arrowcolor": "#2a3f5f",
           "arrowhead": 0,
           "arrowwidth": 1
          },
          "coloraxis": {
           "colorbar": {
            "outlinewidth": 0,
            "ticks": ""
           }
          },
          "colorscale": {
           "diverging": [
            [
             0,
             "#8e0152"
            ],
            [
             0.1,
             "#c51b7d"
            ],
            [
             0.2,
             "#de77ae"
            ],
            [
             0.3,
             "#f1b6da"
            ],
            [
             0.4,
             "#fde0ef"
            ],
            [
             0.5,
             "#f7f7f7"
            ],
            [
             0.6,
             "#e6f5d0"
            ],
            [
             0.7,
             "#b8e186"
            ],
            [
             0.8,
             "#7fbc41"
            ],
            [
             0.9,
             "#4d9221"
            ],
            [
             1,
             "#276419"
            ]
           ],
           "sequential": [
            [
             0,
             "#0d0887"
            ],
            [
             0.1111111111111111,
             "#46039f"
            ],
            [
             0.2222222222222222,
             "#7201a8"
            ],
            [
             0.3333333333333333,
             "#9c179e"
            ],
            [
             0.4444444444444444,
             "#bd3786"
            ],
            [
             0.5555555555555556,
             "#d8576b"
            ],
            [
             0.6666666666666666,
             "#ed7953"
            ],
            [
             0.7777777777777778,
             "#fb9f3a"
            ],
            [
             0.8888888888888888,
             "#fdca26"
            ],
            [
             1,
             "#f0f921"
            ]
           ],
           "sequentialminus": [
            [
             0,
             "#0d0887"
            ],
            [
             0.1111111111111111,
             "#46039f"
            ],
            [
             0.2222222222222222,
             "#7201a8"
            ],
            [
             0.3333333333333333,
             "#9c179e"
            ],
            [
             0.4444444444444444,
             "#bd3786"
            ],
            [
             0.5555555555555556,
             "#d8576b"
            ],
            [
             0.6666666666666666,
             "#ed7953"
            ],
            [
             0.7777777777777778,
             "#fb9f3a"
            ],
            [
             0.8888888888888888,
             "#fdca26"
            ],
            [
             1,
             "#f0f921"
            ]
           ]
          },
          "colorway": [
           "#636efa",
           "#EF553B",
           "#00cc96",
           "#ab63fa",
           "#FFA15A",
           "#19d3f3",
           "#FF6692",
           "#B6E880",
           "#FF97FF",
           "#FECB52"
          ],
          "font": {
           "color": "#2a3f5f"
          },
          "geo": {
           "bgcolor": "white",
           "lakecolor": "white",
           "landcolor": "#E5ECF6",
           "showlakes": true,
           "showland": true,
           "subunitcolor": "white"
          },
          "hoverlabel": {
           "align": "left"
          },
          "hovermode": "closest",
          "mapbox": {
           "style": "light"
          },
          "paper_bgcolor": "white",
          "plot_bgcolor": "#E5ECF6",
          "polar": {
           "angularaxis": {
            "gridcolor": "white",
            "linecolor": "white",
            "ticks": ""
           },
           "bgcolor": "#E5ECF6",
           "radialaxis": {
            "gridcolor": "white",
            "linecolor": "white",
            "ticks": ""
           }
          },
          "scene": {
           "xaxis": {
            "backgroundcolor": "#E5ECF6",
            "gridcolor": "white",
            "gridwidth": 2,
            "linecolor": "white",
            "showbackground": true,
            "ticks": "",
            "zerolinecolor": "white"
           },
           "yaxis": {
            "backgroundcolor": "#E5ECF6",
            "gridcolor": "white",
            "gridwidth": 2,
            "linecolor": "white",
            "showbackground": true,
            "ticks": "",
            "zerolinecolor": "white"
           },
           "zaxis": {
            "backgroundcolor": "#E5ECF6",
            "gridcolor": "white",
            "gridwidth": 2,
            "linecolor": "white",
            "showbackground": true,
            "ticks": "",
            "zerolinecolor": "white"
           }
          },
          "shapedefaults": {
           "line": {
            "color": "#2a3f5f"
           }
          },
          "ternary": {
           "aaxis": {
            "gridcolor": "white",
            "linecolor": "white",
            "ticks": ""
           },
           "baxis": {
            "gridcolor": "white",
            "linecolor": "white",
            "ticks": ""
           },
           "bgcolor": "#E5ECF6",
           "caxis": {
            "gridcolor": "white",
            "linecolor": "white",
            "ticks": ""
           }
          },
          "title": {
           "x": 0.05
          },
          "xaxis": {
           "automargin": true,
           "gridcolor": "white",
           "linecolor": "white",
           "ticks": "",
           "title": {
            "standoff": 15
           },
           "zerolinecolor": "white",
           "zerolinewidth": 2
          },
          "yaxis": {
           "automargin": true,
           "gridcolor": "white",
           "linecolor": "white",
           "ticks": "",
           "title": {
            "standoff": 15
           },
           "zerolinecolor": "white",
           "zerolinewidth": 2
          }
         }
        },
        "title": {
         "text": "monero"
        },
        "width": 800,
        "xaxis": {
         "title": {
          "text": "Time Step (Days)"
         }
        },
        "yaxis": {
         "title": {
          "text": "Value (US Dollars)"
         }
        }
       }
      },
      "text/html": [
       "<div>\n",
       "        \n",
       "        \n",
       "            <div id=\"d8093f48-c5c7-4d1f-af3f-05d73f6bed3a\" class=\"plotly-graph-div\" style=\"height:550px; width:800px;\"></div>\n",
       "            <script type=\"text/javascript\">\n",
       "                require([\"plotly\"], function(Plotly) {\n",
       "                    window.PLOTLYENV=window.PLOTLYENV || {};\n",
       "                    \n",
       "                if (document.getElementById(\"d8093f48-c5c7-4d1f-af3f-05d73f6bed3a\")) {\n",
       "                    Plotly.newPlot(\n",
       "                        'd8093f48-c5c7-4d1f-af3f-05d73f6bed3a',\n",
       "                        [{\"line\": {\"color\": \"red\"}, \"mode\": \"lines\", \"name\": \"present    (2020/02/26-2020/08/24)\", \"type\": \"scatter\", \"x\": [0, 1, 2, 3, 4, 5, 6, 7, 8, 9, 10, 11, 12, 13, 14, 15, 16, 17, 18, 19, 20, 21, 22, 23, 24, 25, 26, 27, 28, 29, 30, 31, 32, 33, 34, 35, 36, 37, 38, 39, 40, 41, 42, 43, 44, 45, 46, 47, 48, 49, 50, 51, 52, 53, 54, 55, 56, 57, 58, 59, 60, 61, 62, 63, 64, 65, 66, 67, 68, 69, 70, 71, 72, 73, 74, 75, 76, 77, 78, 79, 80, 81, 82, 83, 84, 85, 86, 87, 88, 89, 90, 91, 92, 93, 94, 95, 96, 97, 98, 99, 100, 101, 102, 103, 104, 105, 106, 107, 108, 109, 110, 111, 112, 113, 114, 115, 116, 117, 118, 119, 120, 121, 122, 123, 124, 125, 126, 127, 128, 129, 130, 131, 132, 133, 134, 135, 136, 137, 138, 139, 140, 141, 142, 143, 144, 145, 146, 147, 148, 149, 150, 151, 152, 153, 154, 155, 156, 157, 158, 159, 160, 161, 162, 163, 164, 165, 166, 167, 168, 169, 170, 171, 172, 173, 174, 175, 176, 177, 178, 179, 180, 181, 182, 183], \"y\": [85.04582579194673, 79.2696763733346, 76.97181697654162, 70.70373286237789, 69.92129450148055, 68.63780839924877, 66.12140560507409, 64.63436298601555, 68.79139422987339, 65.9162172708104, 65.79158614799478, 68.51309117732748, 68.9518518383828, 65.6985413061043, 56.3259305275865, 55.56055956636673, 54.940004443428876, 54.250827022080074, 32.51244849562076, 36.83026909547622, 36.15182619081327, 38.00490766255599, 34.1140643219383, 36.46182692634435, 36.838188827210544, 40.90926249569054, 40.12497701819938, 41.09977600384332, 38.28264411273819, 44.39554833068499, 47.31372763881426, 47.10863048483567, 50.61204647278417, 47.45706587968749, 47.29057301114516, 44.20292817053849, 46.62308765441908, 47.86627431171591, 48.642479665378715, 50.87037379201055, 52.90947492387215, 54.17339322761651, 53.39644216947507, 58.4790476776155, 55.907413407559616, 57.8048957645898, 58.45753745378177, 53.720852211103676, 53.864987775127474, 53.69715660101432, 53.09539762625555, 54.15867947451329, 53.17221590484347, 56.65770804389517, 56.12118072184268, 58.01592554673464, 57.1765633447468, 54.90997711435001, 55.10108390626169, 56.871062654458484, 58.66587907663752, 60.675916675003656, 60.49130487081715, 61.35064408643028, 62.30020884963849, 62.19192458519788, 66.19771536212868, 62.07621545999171, 63.179594794649226, 64.4668833116909, 62.41645441212959, 61.05049675616736, 60.401926276532684, 58.279418304087656, 64.56305064836383, 63.22510266790515, 63.100815719840504, 58.88170838595826, 59.406268710474976, 61.46553626253166, 64.9279248671428, 65.19886800171784, 62.6248691543107, 65.1338511197484, 65.08025176043105, 66.8427888280125, 66.6852937209509, 64.6400402383215, 61.471679462716516, 62.950121861059635, 63.43297279391219, 60.62034388377683, 61.439926176942414, 61.83349722475551, 64.50215791299853, 67.08538933461975, 66.05144864135562, 68.28668109665689, 65.09574085162089, 67.78404034475888, 66.52579408363718, 67.06741016332128, 68.67822596972024, 67.36266782214904, 67.70439831555156, 66.40890767007033, 68.24875436961732, 68.06623634894198, 69.58938051801651, 63.93709015299112, 65.71185937164115, 66.53347950712953, 65.46972554375463, 64.61350572602693, 65.90811885395041, 65.23285800819505, 64.94954604388556, 64.1363692559643, 63.97558527081168, 64.4270743226233, 66.08858398306258, 66.80378028645367, 64.78278742262133, 64.33697036620008, 64.0256586199465, 62.139644936063526, 63.24856901516695, 64.13484439801192, 63.60568715966468, 64.5705042427957, 65.3606751924626, 62.683861203572796, 64.12295271190597, 63.312126555794904, 64.8759070175235, 64.50807969268534, 66.22712420391908, 67.43451033972325, 67.39474483374104, 68.66867136775464, 69.25390119024333, 69.19021333435519, 67.93687926339923, 70.80328047320035, 67.60702791112269, 67.64633549046407, 68.31995581506928, 68.8527324299868, 69.31718050483776, 69.78179777349933, 71.32187749085742, 72.9864735364602, 71.65514999749674, 73.55171847209925, 78.05271861988334, 78.160868545082, 81.23059516382692, 79.10759387412645, 81.2253124725688, 84.58013533108739, 89.69934485206761, 85.04260148592164, 89.15602195090503, 87.25085122962814, 90.18542808592383, 96.06193594464662, 93.63533470200314, 94.76184697242479, 92.87670959067981, 93.60984442223983, 87.46371391814907, 89.75745631121731, 92.1297858574132, 91.54208735189495, 89.9334954469506, 91.22725325387069, 93.26293001586482, 93.28441725910301, 91.20434780575135, 101.301967190035, 92.23060148868288, 94.76870004804992, 91.21214502501105, 93.38166874760182]}, {\"line\": {\"color\": \"blue\"}, \"mode\": \"lines\", \"name\": \"true       (2020/02/26-2020/08/20)\", \"type\": \"scatter\", \"x\": [0, 1, 2, 3, 4, 5, 6, 7, 8, 9, 10, 11, 12, 13, 14, 15, 16, 17, 18, 19, 20, 21, 22, 23, 24, 25, 26, 27, 28, 29, 30, 31, 32, 33, 34, 35, 36, 37, 38, 39, 40, 41, 42, 43, 44, 45, 46, 47, 48, 49, 50, 51, 52, 53, 54, 55, 56, 57, 58, 59, 60, 61, 62, 63, 64, 65, 66, 67, 68, 69, 70, 71, 72, 73, 74, 75, 76, 77, 78, 79, 80, 81, 82, 83, 84, 85, 86, 87, 88, 89, 90, 91, 92, 93, 94, 95, 96, 97, 98, 99, 100, 101, 102, 103, 104, 105, 106, 107, 108, 109, 110, 111, 112, 113, 114, 115, 116, 117, 118, 119, 120, 121, 122, 123, 124, 125, 126, 127, 128, 129, 130, 131, 132, 133, 134, 135, 136, 137, 138, 139, 140, 141, 142, 143, 144, 145, 146, 147, 148, 149, 150, 151, 152, 153, 154, 155, 156, 157, 158, 159, 160, 161, 162, 163, 164, 165, 166, 167, 168, 169, 170, 171, 172, 173, 174, 175, 176, 177, 178, 179], \"y\": [85.04582579194673, 79.2696763733346, 76.97181697654162, 70.70373286237789, 69.92129450148055, 68.63780839924877, 66.12140560507409, 64.63436298601555, 68.79139422987339, 65.9162172708104, 65.79158614799478, 68.51309117732748, 68.9518518383828, 65.6985413061043, 56.3259305275865, 55.56055956636673, 54.940004443428876, 54.250827022080074, 32.51244849562076, 36.83026909547622, 36.15182619081327, 38.00490766255599, 34.1140643219383, 36.46182692634435, 36.838188827210544, 40.90926249569054, 40.12497701819938, 41.09977600384332, 38.28264411273819, 44.39554833068499, 47.31372763881426, 47.10863048483567, 50.61204647278417, 47.45706587968749, 47.29057301114516, 44.20292817053849, 46.62308765441908, 47.86627431171591, 48.642479665378715, 50.87037379201055, 52.90947492387215, 54.17339322761651, 53.39644216947507, 58.4790476776155, 55.907413407559616, 57.8048957645898, 58.45753745378177, 53.720852211103676, 53.864987775127474, 53.69715660101432, 53.09539762625555, 54.15867947451329, 53.17221590484347, 56.65770804389517, 56.12118072184268, 58.01592554673464, 57.1765633447468, 54.90997711435001, 55.10108390626169, 56.871062654458484, 58.66587907663752, 60.675916675003656, 60.49130487081715, 61.35064408643028, 62.30020884963849, 62.19192458519788, 66.19771536212868, 62.07621545999171, 63.179594794649226, 64.4668833116909, 62.41645441212959, 61.05049675616736, 60.401926276532684, 58.279418304087656, 64.56305064836383, 63.22510266790515, 63.100815719840504, 58.88170838595826, 59.406268710474976, 61.46553626253166, 64.9279248671428, 65.19886800171784, 62.6248691543107, 65.1338511197484, 65.08025176043105, 66.8427888280125, 66.6852937209509, 64.6400402383215, 61.471679462716516, 62.950121861059635, 63.43297279391219, 60.62034388377683, 61.439926176942414, 61.83349722475551, 64.50215791299853, 67.08538933461975, 66.05144864135562, 68.28668109665689, 65.09574085162089, 67.78404034475888, 66.52579408363718, 67.06741016332128, 68.67822596972024, 67.36266782214904, 67.70439831555156, 66.40890767007033, 68.24875436961732, 68.06623634894198, 69.58938051801651, 63.93709015299112, 65.71185937164115, 66.53347950712953, 65.46972554375463, 64.61350572602693, 65.90811885395041, 65.23285800819505, 64.94954604388556, 64.1363692559643, 63.97558527081168, 64.4270743226233, 66.08858398306258, 66.80378028645367, 64.78278742262133, 64.33697036620008, 64.0256586199465, 62.139644936063526, 63.24856901516695, 64.13484439801192, 63.60568715966468, 64.5705042427957, 65.3606751924626, 62.683861203572796, 64.12295271190597, 63.312126555794904, 64.8759070175235, 64.50807969268534, 66.22712420391908, 67.43451033972325, 67.39474483374104, 68.66867136775464, 69.25390119024333, 69.19021333435519, 67.93687926339923, 70.80328047320035, 67.60702791112269, 67.64633549046407, 68.31995581506928, 68.8527324299868, 69.31718050483776, 69.78179777349933, 71.32187749085742, 72.9864735364602, 71.65514999749674, 73.55171847209925, 78.05271861988334, 78.160868545082, 81.23059516382692, 79.10759387412645, 81.2253124725688, 84.58013533108739, 89.69934485206761, 85.04260148592164, 89.15602195090503, 87.25085122962814, 90.18542808592383, 96.06193594464662, 93.63533470200314, 94.76184697242479, 92.87670959067981, 93.60984442223983, 87.46371391814907, 89.75745631121731, 92.1297858574132, 91.54208735189495, 89.9334954469506, 91.22725325387069, 93.26293001586482, 93.28441725910301, 91.20434780575135, 97.6540592888318]}, {\"line\": {\"color\": \"green\"}, \"mode\": \"lines\", \"name\": \"simulation (2020/02/26-2020/09/19)\", \"type\": \"scatter\", \"visible\": \"legendonly\", \"x\": [0, 1, 2, 3, 4, 5, 6, 7, 8, 9, 10, 11, 12, 13, 14, 15, 16, 17, 18, 19, 20, 21, 22, 23, 24, 25, 26, 27, 28, 29, 30, 31, 32, 33, 34, 35, 36, 37, 38, 39, 40, 41, 42, 43, 44, 45, 46, 47, 48, 49, 50, 51, 52, 53, 54, 55, 56, 57, 58, 59, 60, 61, 62, 63, 64, 65, 66, 67, 68, 69, 70, 71, 72, 73, 74, 75, 76, 77, 78, 79, 80, 81, 82, 83, 84, 85, 86, 87, 88, 89, 90, 91, 92, 93, 94, 95, 96, 97, 98, 99, 100, 101, 102, 103, 104, 105, 106, 107, 108, 109, 110, 111, 112, 113, 114, 115, 116, 117, 118, 119, 120, 121, 122, 123, 124, 125, 126, 127, 128, 129, 130, 131, 132, 133, 134, 135, 136, 137, 138, 139, 140, 141, 142, 143, 144, 145, 146, 147, 148, 149, 150, 151, 152, 153, 154, 155, 156, 157, 158, 159, 160, 161, 162, 163, 164, 165, 166, 167, 168, 169, 170, 171, 172, 173, 174, 175, 176, 177, 178, 179, 180, 181, 182, 183, 184, 185, 186, 187, 188, 189, 190, 191, 192, 193, 194, 195, 196, 197, 198, 199, 200, 201, 202, 203, 204, 205, 206, 207, 208, 209], \"y\": [84.08756068435287, 83.22290867738005, 86.46240247688334, 82.59970022716399, 73.53730658656535, 75.21122648845072, 69.9932542309304, 72.3518790536867, 74.35137776502567, 74.00039553079574, 72.84011085532524, 71.35586590395425, 70.0910584418528, 73.10840667768007, 73.1492057895779, 64.31278755455816, 61.1981246227543, 63.5431316128741, 61.91506536325076, 45.06598581515232, 47.21232486533425, 51.5208832979616, 53.000813829605505, 43.21904291687435, 44.92415015586202, 46.7405861795959, 48.505255078882946, 49.816162694164404, 55.14064388489972, 45.81936275988596, 53.68891300047501, 59.48282386315579, 60.34561647962472, 59.78417166323426, 52.48511479918018, 55.57675690094482, 51.02698549830943, 56.438312937816235, 54.49759654186817, 58.3600856326552, 56.8962308380505, 59.572107337560276, 58.80007131283395, 62.06508183203593, 62.26405964725384, 62.072964403445866, 66.77384491492734, 70.57016945037128, 62.850917248157145, 55.634845835946415, 56.34988697894786, 67.33419580876114, 62.824650542902376, 62.19065555077512, 64.05749641191593, 66.51997757810105, 66.5034724103349, 65.3625319120963, 61.757764101671036, 60.87237167197398, 67.86407283623947, 67.85199819571591, 69.61214046724795, 71.52473685463919, 67.90682221875906, 74.00157592099842, 69.2147868097993, 71.70072111685943, 68.66018553948217, 70.87796789812839, 74.64598813675434, 69.29619487231135, 67.25607225522313, 62.208831420670805, 60.31876476991854, 67.4116856389596, 65.8183964454372, 68.36476106463492, 64.56786904773679, 61.06294541821922, 61.44031973265901, 69.93495141320406, 71.90007980859492, 69.1749251941404, 72.00789220043643, 72.40282210857535, 71.57777718872296, 73.46085708713281, 70.50219291924847, 70.9154331549507, 67.47681185029691, 70.1252352284969, 69.99224174072432, 68.0282591142308, 73.03743104240957, 68.09062810649615, 72.68459780938166, 69.53604530523393, 68.40745498547123, 68.38545873126822, 74.76058945774074, 70.58581342603838, 76.04796878272236, 77.623699989538, 80.26737105584621, 77.89650859104772, 70.55518885949476, 74.40004827311475, 74.35609762930753, 73.876555569527, 68.52994697733867, 68.12093228572125, 69.18487309767428, 73.08571946167712, 69.69132054093689, 70.25838966049055, 72.39411549296602, 73.48503419302483, 69.61744007602647, 68.03548294854538, 67.03391920425983, 68.41563669199206, 72.33604117883672, 69.21212964948185, 67.39078532031905, 62.68303123646332, 67.5809271929896, 64.81056759235052, 63.71688199419417, 68.8220423233291, 64.33848463102292, 72.3216934108493, 67.55675616929953, 68.85817727976628, 67.3539081174714, 70.64974049951806, 64.84528794177199, 71.4205288624863, 69.01062652622514, 70.29039378181268, 74.23535830836349, 72.05637765823059, 73.49081119983686, 76.03738030014618, 71.43053703429642, 67.72510228161217, 68.76008462798549, 70.71211181355793, 66.82609203227733, 66.7676244620635, 74.22725970958393, 76.14848087417646, 73.60589059867961, 72.17746918506734, 75.88700287024447, 79.65787140082432, 74.87707266035439, 81.30390894163273, 80.12143513355821, 87.92826653075585, 88.4505529752648, 88.74765280208939, 89.0951330578705, 85.16500060326088, 83.23478706358775, 85.80943144219847, 89.37630729164073, 89.6005917994227, 90.71890104550211, 91.06125207194577, 95.27620302398898, 83.27438510930344, 87.53627963305178, 88.6199438155237, 89.34217321911558, 87.79704699804424, 90.2914521873563, 95.21279464330965, 92.34081290450871, 90.4084491236158, 96.89451657504563, 98.2574700777463, 95.03806845989307, 91.81532371399496, 93.80362031702204, 92.60941738573148, 90.70326234961557, 85.60887945156571, 83.16850162616895, 79.1002580580485, 85.88538532775739, 85.94599327988112, 83.94730185427315, 82.61047961135654, 86.37961203336619, 85.98976430628315, 85.654300523356, 81.28551149667638, 79.32477555875334, 81.06869078446454, 87.16467822694887, 84.9620276289991, 85.92416763232382, 85.09919649617632, 79.85293624532419, 74.24580148977034, 71.28643275332492, 67.28628624583337, 67.46451393362106, 67.10162472778842]}, {\"line\": {\"color\": \"black\"}, \"mode\": \"lines\", \"name\": \"prediction (2020/08/20-2020/09/19)\", \"type\": \"scatter\", \"x\": [180, 181, 182, 183, 184, 185, 186, 187, 188, 189, 190, 191, 192, 193, 194, 195, 196, 197, 198, 199, 200, 201, 202, 203, 204, 205, 206, 207, 208, 209], \"y\": [96.89451657504563, 98.2574700777463, 95.03806845989307, 91.81532371399496, 93.80362031702204, 92.60941738573148, 90.70326234961557, 85.60887945156571, 83.16850162616895, 79.1002580580485, 85.88538532775739, 85.94599327988112, 83.94730185427315, 82.61047961135654, 86.37961203336619, 85.98976430628315, 85.654300523356, 81.28551149667638, 79.32477555875334, 81.06869078446454, 87.16467822694887, 84.9620276289991, 85.92416763232382, 85.09919649617632, 79.85293624532419, 74.24580148977034, 71.28643275332492, 67.28628624583337, 67.46451393362106, 67.10162472778842]}],\n",
       "                        {\"autosize\": false, \"font\": {\"color\": \"#7f7f7f\", \"family\": \"Courier New, monospace\", \"size\": 18}, \"height\": 550, \"legend\": {\"x\": 0.01, \"xanchor\": \"left\", \"y\": -0.25, \"yanchor\": \"top\"}, \"template\": {\"data\": {\"bar\": [{\"error_x\": {\"color\": \"#2a3f5f\"}, \"error_y\": {\"color\": \"#2a3f5f\"}, \"marker\": {\"line\": {\"color\": \"#E5ECF6\", \"width\": 0.5}}, \"type\": \"bar\"}], \"barpolar\": [{\"marker\": {\"line\": {\"color\": \"#E5ECF6\", \"width\": 0.5}}, \"type\": \"barpolar\"}], \"carpet\": [{\"aaxis\": {\"endlinecolor\": \"#2a3f5f\", \"gridcolor\": \"white\", \"linecolor\": \"white\", \"minorgridcolor\": \"white\", \"startlinecolor\": \"#2a3f5f\"}, \"baxis\": {\"endlinecolor\": \"#2a3f5f\", \"gridcolor\": \"white\", \"linecolor\": \"white\", \"minorgridcolor\": \"white\", \"startlinecolor\": \"#2a3f5f\"}, \"type\": \"carpet\"}], \"choropleth\": [{\"colorbar\": {\"outlinewidth\": 0, \"ticks\": \"\"}, \"type\": \"choropleth\"}], \"contour\": [{\"colorbar\": {\"outlinewidth\": 0, \"ticks\": \"\"}, \"colorscale\": [[0.0, \"#0d0887\"], [0.1111111111111111, \"#46039f\"], [0.2222222222222222, \"#7201a8\"], [0.3333333333333333, \"#9c179e\"], [0.4444444444444444, \"#bd3786\"], [0.5555555555555556, \"#d8576b\"], [0.6666666666666666, \"#ed7953\"], [0.7777777777777778, \"#fb9f3a\"], [0.8888888888888888, \"#fdca26\"], [1.0, \"#f0f921\"]], \"type\": \"contour\"}], \"contourcarpet\": [{\"colorbar\": {\"outlinewidth\": 0, \"ticks\": \"\"}, \"type\": \"contourcarpet\"}], \"heatmap\": [{\"colorbar\": {\"outlinewidth\": 0, \"ticks\": \"\"}, \"colorscale\": [[0.0, \"#0d0887\"], [0.1111111111111111, \"#46039f\"], [0.2222222222222222, \"#7201a8\"], [0.3333333333333333, \"#9c179e\"], [0.4444444444444444, \"#bd3786\"], [0.5555555555555556, \"#d8576b\"], [0.6666666666666666, \"#ed7953\"], [0.7777777777777778, \"#fb9f3a\"], [0.8888888888888888, \"#fdca26\"], [1.0, \"#f0f921\"]], \"type\": \"heatmap\"}], \"heatmapgl\": [{\"colorbar\": {\"outlinewidth\": 0, \"ticks\": \"\"}, \"colorscale\": [[0.0, \"#0d0887\"], [0.1111111111111111, \"#46039f\"], [0.2222222222222222, \"#7201a8\"], [0.3333333333333333, \"#9c179e\"], [0.4444444444444444, \"#bd3786\"], [0.5555555555555556, \"#d8576b\"], [0.6666666666666666, \"#ed7953\"], [0.7777777777777778, \"#fb9f3a\"], [0.8888888888888888, \"#fdca26\"], [1.0, \"#f0f921\"]], \"type\": \"heatmapgl\"}], \"histogram\": [{\"marker\": {\"colorbar\": {\"outlinewidth\": 0, \"ticks\": \"\"}}, \"type\": \"histogram\"}], \"histogram2d\": [{\"colorbar\": {\"outlinewidth\": 0, \"ticks\": \"\"}, \"colorscale\": [[0.0, \"#0d0887\"], [0.1111111111111111, \"#46039f\"], [0.2222222222222222, \"#7201a8\"], [0.3333333333333333, \"#9c179e\"], [0.4444444444444444, \"#bd3786\"], [0.5555555555555556, \"#d8576b\"], [0.6666666666666666, \"#ed7953\"], [0.7777777777777778, \"#fb9f3a\"], [0.8888888888888888, \"#fdca26\"], [1.0, \"#f0f921\"]], \"type\": \"histogram2d\"}], \"histogram2dcontour\": [{\"colorbar\": {\"outlinewidth\": 0, \"ticks\": \"\"}, \"colorscale\": [[0.0, \"#0d0887\"], [0.1111111111111111, \"#46039f\"], [0.2222222222222222, \"#7201a8\"], [0.3333333333333333, \"#9c179e\"], [0.4444444444444444, \"#bd3786\"], [0.5555555555555556, \"#d8576b\"], [0.6666666666666666, \"#ed7953\"], [0.7777777777777778, \"#fb9f3a\"], [0.8888888888888888, \"#fdca26\"], [1.0, \"#f0f921\"]], \"type\": \"histogram2dcontour\"}], \"mesh3d\": [{\"colorbar\": {\"outlinewidth\": 0, \"ticks\": \"\"}, \"type\": \"mesh3d\"}], \"parcoords\": [{\"line\": {\"colorbar\": {\"outlinewidth\": 0, \"ticks\": \"\"}}, \"type\": \"parcoords\"}], \"pie\": [{\"automargin\": true, \"type\": \"pie\"}], \"scatter\": [{\"marker\": {\"colorbar\": {\"outlinewidth\": 0, \"ticks\": \"\"}}, \"type\": \"scatter\"}], \"scatter3d\": [{\"line\": {\"colorbar\": {\"outlinewidth\": 0, \"ticks\": \"\"}}, \"marker\": {\"colorbar\": {\"outlinewidth\": 0, \"ticks\": \"\"}}, \"type\": \"scatter3d\"}], \"scattercarpet\": [{\"marker\": {\"colorbar\": {\"outlinewidth\": 0, \"ticks\": \"\"}}, \"type\": \"scattercarpet\"}], \"scattergeo\": [{\"marker\": {\"colorbar\": {\"outlinewidth\": 0, \"ticks\": \"\"}}, \"type\": \"scattergeo\"}], \"scattergl\": [{\"marker\": {\"colorbar\": {\"outlinewidth\": 0, \"ticks\": \"\"}}, \"type\": \"scattergl\"}], \"scattermapbox\": [{\"marker\": {\"colorbar\": {\"outlinewidth\": 0, \"ticks\": \"\"}}, \"type\": \"scattermapbox\"}], \"scatterpolar\": [{\"marker\": {\"colorbar\": {\"outlinewidth\": 0, \"ticks\": \"\"}}, \"type\": \"scatterpolar\"}], \"scatterpolargl\": [{\"marker\": {\"colorbar\": {\"outlinewidth\": 0, \"ticks\": \"\"}}, \"type\": \"scatterpolargl\"}], \"scatterternary\": [{\"marker\": {\"colorbar\": {\"outlinewidth\": 0, \"ticks\": \"\"}}, \"type\": \"scatterternary\"}], \"surface\": [{\"colorbar\": {\"outlinewidth\": 0, \"ticks\": \"\"}, \"colorscale\": [[0.0, \"#0d0887\"], [0.1111111111111111, \"#46039f\"], [0.2222222222222222, \"#7201a8\"], [0.3333333333333333, \"#9c179e\"], [0.4444444444444444, \"#bd3786\"], [0.5555555555555556, \"#d8576b\"], [0.6666666666666666, \"#ed7953\"], [0.7777777777777778, \"#fb9f3a\"], [0.8888888888888888, \"#fdca26\"], [1.0, \"#f0f921\"]], \"type\": \"surface\"}], \"table\": [{\"cells\": {\"fill\": {\"color\": \"#EBF0F8\"}, \"line\": {\"color\": \"white\"}}, \"header\": {\"fill\": {\"color\": \"#C8D4E3\"}, \"line\": {\"color\": \"white\"}}, \"type\": \"table\"}]}, \"layout\": {\"annotationdefaults\": {\"arrowcolor\": \"#2a3f5f\", \"arrowhead\": 0, \"arrowwidth\": 1}, \"coloraxis\": {\"colorbar\": {\"outlinewidth\": 0, \"ticks\": \"\"}}, \"colorscale\": {\"diverging\": [[0, \"#8e0152\"], [0.1, \"#c51b7d\"], [0.2, \"#de77ae\"], [0.3, \"#f1b6da\"], [0.4, \"#fde0ef\"], [0.5, \"#f7f7f7\"], [0.6, \"#e6f5d0\"], [0.7, \"#b8e186\"], [0.8, \"#7fbc41\"], [0.9, \"#4d9221\"], [1, \"#276419\"]], \"sequential\": [[0.0, \"#0d0887\"], [0.1111111111111111, \"#46039f\"], [0.2222222222222222, \"#7201a8\"], [0.3333333333333333, \"#9c179e\"], [0.4444444444444444, \"#bd3786\"], [0.5555555555555556, \"#d8576b\"], [0.6666666666666666, \"#ed7953\"], [0.7777777777777778, \"#fb9f3a\"], [0.8888888888888888, \"#fdca26\"], [1.0, \"#f0f921\"]], \"sequentialminus\": [[0.0, \"#0d0887\"], [0.1111111111111111, \"#46039f\"], [0.2222222222222222, \"#7201a8\"], [0.3333333333333333, \"#9c179e\"], [0.4444444444444444, \"#bd3786\"], [0.5555555555555556, \"#d8576b\"], [0.6666666666666666, \"#ed7953\"], [0.7777777777777778, \"#fb9f3a\"], [0.8888888888888888, \"#fdca26\"], [1.0, \"#f0f921\"]]}, \"colorway\": [\"#636efa\", \"#EF553B\", \"#00cc96\", \"#ab63fa\", \"#FFA15A\", \"#19d3f3\", \"#FF6692\", \"#B6E880\", \"#FF97FF\", \"#FECB52\"], \"font\": {\"color\": \"#2a3f5f\"}, \"geo\": {\"bgcolor\": \"white\", \"lakecolor\": \"white\", \"landcolor\": \"#E5ECF6\", \"showlakes\": true, \"showland\": true, \"subunitcolor\": \"white\"}, \"hoverlabel\": {\"align\": \"left\"}, \"hovermode\": \"closest\", \"mapbox\": {\"style\": \"light\"}, \"paper_bgcolor\": \"white\", \"plot_bgcolor\": \"#E5ECF6\", \"polar\": {\"angularaxis\": {\"gridcolor\": \"white\", \"linecolor\": \"white\", \"ticks\": \"\"}, \"bgcolor\": \"#E5ECF6\", \"radialaxis\": {\"gridcolor\": \"white\", \"linecolor\": \"white\", \"ticks\": \"\"}}, \"scene\": {\"xaxis\": {\"backgroundcolor\": \"#E5ECF6\", \"gridcolor\": \"white\", \"gridwidth\": 2, \"linecolor\": \"white\", \"showbackground\": true, \"ticks\": \"\", \"zerolinecolor\": \"white\"}, \"yaxis\": {\"backgroundcolor\": \"#E5ECF6\", \"gridcolor\": \"white\", \"gridwidth\": 2, \"linecolor\": \"white\", \"showbackground\": true, \"ticks\": \"\", \"zerolinecolor\": \"white\"}, \"zaxis\": {\"backgroundcolor\": \"#E5ECF6\", \"gridcolor\": \"white\", \"gridwidth\": 2, \"linecolor\": \"white\", \"showbackground\": true, \"ticks\": \"\", \"zerolinecolor\": \"white\"}}, \"shapedefaults\": {\"line\": {\"color\": \"#2a3f5f\"}}, \"ternary\": {\"aaxis\": {\"gridcolor\": \"white\", \"linecolor\": \"white\", \"ticks\": \"\"}, \"baxis\": {\"gridcolor\": \"white\", \"linecolor\": \"white\", \"ticks\": \"\"}, \"bgcolor\": \"#E5ECF6\", \"caxis\": {\"gridcolor\": \"white\", \"linecolor\": \"white\", \"ticks\": \"\"}}, \"title\": {\"x\": 0.05}, \"xaxis\": {\"automargin\": true, \"gridcolor\": \"white\", \"linecolor\": \"white\", \"ticks\": \"\", \"title\": {\"standoff\": 15}, \"zerolinecolor\": \"white\", \"zerolinewidth\": 2}, \"yaxis\": {\"automargin\": true, \"gridcolor\": \"white\", \"linecolor\": \"white\", \"ticks\": \"\", \"title\": {\"standoff\": 15}, \"zerolinecolor\": \"white\", \"zerolinewidth\": 2}}}, \"title\": {\"text\": \"monero\"}, \"width\": 800, \"xaxis\": {\"title\": {\"text\": \"Time Step (Days)\"}}, \"yaxis\": {\"title\": {\"text\": \"Value (US Dollars)\"}}},\n",
       "                        {\"responsive\": true}\n",
       "                    ).then(function(){\n",
       "                            \n",
       "var gd = document.getElementById('d8093f48-c5c7-4d1f-af3f-05d73f6bed3a');\n",
       "var x = new MutationObserver(function (mutations, observer) {{\n",
       "        var display = window.getComputedStyle(gd).display;\n",
       "        if (!display || display === 'none') {{\n",
       "            console.log([gd, 'removed!']);\n",
       "            Plotly.purge(gd);\n",
       "            observer.disconnect();\n",
       "        }}\n",
       "}});\n",
       "\n",
       "// Listen for the removal of the full notebook cells\n",
       "var notebookContainer = gd.closest('#notebook-container');\n",
       "if (notebookContainer) {{\n",
       "    x.observe(notebookContainer, {childList: true});\n",
       "}}\n",
       "\n",
       "// Listen for the clearing of the current output cell\n",
       "var outputEl = gd.closest('.output');\n",
       "if (outputEl) {{\n",
       "    x.observe(outputEl, {childList: true});\n",
       "}}\n",
       "\n",
       "                        })\n",
       "                };\n",
       "                });\n",
       "            </script>\n",
       "        </div>"
      ]
     },
     "metadata": {},
     "output_type": "display_data"
    }
   ],
   "source": [
    "pretty_plot(data, 'monero', days_before = 180 )"
   ]
  }
 ],
 "metadata": {
  "kernelspec": {
   "display_name": "oceanography",
   "language": "python",
   "name": "oceanography"
  },
  "language_info": {
   "codemirror_mode": {
    "name": "ipython",
    "version": 3
   },
   "file_extension": ".py",
   "mimetype": "text/x-python",
   "name": "python",
   "nbconvert_exporter": "python",
   "pygments_lexer": "ipython3",
   "version": "3.7.3"
  }
 },
 "nbformat": 4,
 "nbformat_minor": 2
}
